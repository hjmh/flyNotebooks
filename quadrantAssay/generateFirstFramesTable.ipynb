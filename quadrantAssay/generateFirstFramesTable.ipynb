{
 "cells": [
  {
   "cell_type": "code",
   "execution_count": 1,
   "metadata": {
    "collapsed": false
   },
   "outputs": [],
   "source": [
    "from os import listdir\n",
    "import csv\n",
    "import matplotlib.pyplot as plt\n",
    "from numpy import mean, asarray, where, zeros\n",
    "%matplotlib inline"
   ]
  },
  {
   "cell_type": "code",
   "execution_count": 2,
   "metadata": {
    "collapsed": false
   },
   "outputs": [],
   "source": [
    "baseDir = '/Volumes/jayaramanlab/Hannah/Projects/OptogeneticsFreeWalkingArena/1_Data/virtualReinforcement/'\n",
    "#\"/Volumes/jayaramanlab/Hannah/Experiments/OptogeneticsFreeWalkingArena/1_Data/rewardNeuronScreen_round2/blueBackLight-level3/\"\n",
    "expDir = '20xCsChrWTB_x_MB083C_female_RetinalInWuerzburg/LED10/'\n",
    "experiment = expDir.split('/')[-2]"
   ]
  },
  {
   "cell_type": "code",
   "execution_count": 3,
   "metadata": {
    "collapsed": false,
    "scrolled": true
   },
   "outputs": [
    {
     "name": "stdout",
     "output_type": "stream",
     "text": [
      "20xCsChrimsonWTB_x_MB083C_2repeatfemales_cam_0_date_2016_06_13_time_17_30_48_v001_luLEDTrace.csv\n",
      "20xCsChrimsonWTB_x_MB083C_4repeatfemales_cam_0_date_2016_06_15_time_14_22_55_v001_luLEDTrace.csv\n",
      "20xCsChrimsonWTB_x_MB083C_3repeatfemales_cam_0_date_2016_06_13_time_17_40_52_v001_luLEDTrace.csv\n",
      "20xCsChrimsonWTB_x_MB083C_1repeatfemales_cam_0_date_2016_06_13_time_17_07_44_v001_luLEDTrace.csv\n",
      "20xCsChrimsonWTB_x_MB083C_5repeatfemales_cam_0_date_2016_06_15_time_14_45_36_v001_luLEDTrace.csv\n"
     ]
    }
   ],
   "source": [
    "filesToAnalyse = []\n",
    "expDirContent = listdir(baseDir + expDir + \"luLEDTraces\")\n",
    "\n",
    "expDirContent\n",
    "for file in expDirContent:\n",
    "    if file.endswith('_luLEDTrace.csv'):\n",
    "        print(file)\n",
    "        filesToAnalyse.append(file)   \n",
    "numFiles = len(filesToAnalyse)"
   ]
  },
  {
   "cell_type": "code",
   "execution_count": 4,
   "metadata": {
    "collapsed": false
   },
   "outputs": [],
   "source": [
    "with open(baseDir + expDir + 'firstFrames.csv', 'w') as csvfile:\n",
    "        mywriter = csv.writer(csvfile, delimiter=',')\n",
    "        mywriter.writerow(['experiment'] + ['fileName'] + ['startFrame'])"
   ]
  },
  {
   "cell_type": "code",
   "execution_count": 5,
   "metadata": {
    "collapsed": false
   },
   "outputs": [],
   "source": [
    "for currFile in range(numFiles):\n",
    "    meanValue = []\n",
    "    fileToAnalyse = csv.reader(open(baseDir + expDir + \"luLEDTraces/\" + filesToAnalyse[currFile],'r'))\n",
    "    for line in fileToAnalyse:\n",
    "        meanValue.append(line[2])\n",
    "    \n",
    "    meanValue = asarray(meanValue[1:-1]).astype('float')\n",
    "\n",
    "    stimOn = where(meanValue>mean(meanValue))\n",
    "\n",
    "    fileNameParts = filesToAnalyse[currFile].split('_')\n",
    "    fileName = '_'.join(fileNameParts[0:-1])\n",
    "    \n",
    "    with open(baseDir + expDir + 'firstFrames.csv', 'a') as csvfile:\n",
    "        mywriter = csv.writer(csvfile, delimiter=',')\n",
    "        mywriter.writerow([experiment] + [fileName] + [stimOn[0][0]])"
   ]
  },
  {
   "cell_type": "code",
   "execution_count": null,
   "metadata": {
    "collapsed": true
   },
   "outputs": [],
   "source": []
  },
  {
   "cell_type": "code",
   "execution_count": null,
   "metadata": {
    "collapsed": true
   },
   "outputs": [],
   "source": []
  }
 ],
 "metadata": {
  "kernelspec": {
   "display_name": "Python 2",
   "language": "python",
   "name": "python2"
  },
  "language_info": {
   "codemirror_mode": {
    "name": "ipython",
    "version": 2
   },
   "file_extension": ".py",
   "mimetype": "text/x-python",
   "name": "python",
   "nbconvert_exporter": "python",
   "pygments_lexer": "ipython2",
   "version": "2.7.11"
  }
 },
 "nbformat": 4,
 "nbformat_minor": 0
}
