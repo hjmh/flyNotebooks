{
 "cells": [
  {
   "cell_type": "markdown",
   "metadata": {},
   "source": [
    "## Visualisation of how landmark size and fog affect landmark visibility in the VR"
   ]
  },
  {
   "cell_type": "code",
   "execution_count": 2,
   "metadata": {
    "collapsed": false
   },
   "outputs": [],
   "source": [
    "import numpy as np\n",
    "import matplotlib.pyplot as plt\n",
    "from os import getcwd\n",
    "\n",
    "%matplotlib inline"
   ]
  },
  {
   "cell_type": "code",
   "execution_count": 3,
   "metadata": {
    "collapsed": true
   },
   "outputs": [],
   "source": [
    "def myAxisTheme(myax):\n",
    "    myax.get_xaxis().tick_bottom()\n",
    "    myax.get_yaxis().tick_left()\n",
    "    myax.spines['top'].set_visible(False)\n",
    "    myax.spines['right'].set_visible(False)"
   ]
  },
  {
   "cell_type": "code",
   "execution_count": 16,
   "metadata": {
    "collapsed": true
   },
   "outputs": [],
   "source": [
    "# Set landmark dimensions in mm\n",
    "LMwidth = 10\n",
    "LMheight = 40\n",
    "\n",
    "# Set maximum and minimum landmark distances to be cosidered (mm)\n",
    "minDist = 0\n",
    "maxDist = 80\n",
    "\n",
    "# Set virtual fog parameter (minumum bound and upper bound)\n",
    "minFog = 55\n",
    "maxFog = 70\n",
    "\n",
    "# Display size (pixels)\n",
    "screenWidth = 720\n",
    "screenHeight = 1280"
   ]
  },
  {
   "cell_type": "code",
   "execution_count": 17,
   "metadata": {
    "collapsed": false
   },
   "outputs": [],
   "source": [
    "nPts = 1 # number of points per mm\n",
    "\n",
    "distRange = np.linspace(minDist,maxDist,(maxDist-minDist+1)*nPts)"
   ]
  },
  {
   "cell_type": "code",
   "execution_count": 18,
   "metadata": {
    "collapsed": false
   },
   "outputs": [],
   "source": [
    "# Visibility through virtual fog\n",
    "maxVis = float(max(maxDist-maxFog, maxDist))\n",
    "maxVisFog = float(min(maxFog, maxDist))\n",
    "\n",
    "visibility = np.concatenate((100.0*np.ones((minFog-minDist)*nPts),\n",
    "                             100.0 - np.linspace(0,100.0*((maxVisFog-minFog)/(maxFog-minFog)),(maxVisFog-minFog+1)*nPts),\n",
    "                             0*np.ones((maxVis-maxVisFog)*nPts)))"
   ]
  },
  {
   "cell_type": "code",
   "execution_count": 19,
   "metadata": {
    "collapsed": false
   },
   "outputs": [
    {
     "name": "stderr",
     "output_type": "stream",
     "text": [
      "/Users/hannah/anaconda/lib/python2.7/site-packages/ipykernel/__main__.py:2: RuntimeWarning: divide by zero encountered in divide\n",
      "  from ipykernel import kernelapp as app\n",
      "/Users/hannah/anaconda/lib/python2.7/site-packages/ipykernel/__main__.py:3: RuntimeWarning: divide by zero encountered in divide\n",
      "  app.launch_new_instance()\n"
     ]
    }
   ],
   "source": [
    "# Size of landmark\n",
    "angleWidth = lambda x: 180/np.pi * 2*np.arctan((LMwidth/2.0)/x)\n",
    "angleHeight = lambda x: 180/np.pi * np.arctan((LMheight)/x)\n",
    "\n",
    "alphaWidth = angleWidth(distRange)\n",
    "alphaHeight = angleHeight(distRange)"
   ]
  },
  {
   "cell_type": "code",
   "execution_count": 25,
   "metadata": {
    "collapsed": false
   },
   "outputs": [
    {
     "name": "stdout",
     "output_type": "stream",
     "text": [
      "[ 10.38885782]\n",
      "[ 36.02737339]\n"
     ]
    }
   ],
   "source": [
    "print(alphaWidth[np.where(distRange==minFog)[0]])\n",
    "print(alphaHeight[np.where(distRange==minFog)[0]])"
   ]
  },
  {
   "cell_type": "code",
   "execution_count": 26,
   "metadata": {
    "collapsed": false
   },
   "outputs": [
    {
     "name": "stdout",
     "output_type": "stream",
     "text": [
      "[ 8.17123356]\n",
      "[ 29.7448813]\n"
     ]
    }
   ],
   "source": [
    "print(alphaWidth[np.where(distRange==maxFog)[0]])\n",
    "print(alphaHeight[np.where(distRange==maxFog)[0]])"
   ]
  },
  {
   "cell_type": "code",
   "execution_count": 21,
   "metadata": {
    "collapsed": false
   },
   "outputs": [
    {
     "data": {
      "image/png": "[encoded data removed]",
      "text/plain": [
       "<matplotlib.figure.Figure at 0x119a9b0d0>"
      ]
     },
     "metadata": {},
     "output_type": "display_data"
    }
   ],
   "source": [
    "LMappearanceFig = plt.figure(figsize=(8,5))\n",
    "LMappearancePlot = LMappearanceFig.add_subplot(111)\n",
    "\n",
    "LMappearancePlot.plot(distRange, visibility, color='steelblue', linewidth=2)\n",
    "LMappearancePlot.plot(distRange,alphaWidth, color='black', linewidth= 2)\n",
    "LMappearancePlot.plot(distRange,alphaHeight, color='grey', linewidth= 2)\n",
    "\n",
    "LMappearancePlot.axhline(y=20,linestyle='dashed',color='black')\n",
    "LMappearancePlot.axhline(y=80,linestyle='dashed',color='grey')\n",
    "LMappearancePlot.axhline(y=120,linestyle='dashed',color='black')\n",
    "\n",
    "LMappearancePlot.axvline(x=LMwidth/2,linestyle='dashed',color='black')\n",
    "\n",
    "LMappearancePlot.set_ylim(-10,180)\n",
    "LMappearancePlot.set_xlabel('Landmark distance [mm]')\n",
    "LMappearancePlot.set_ylabel('Landmark visibility [%]\\nLandmark width and height [deg]')\n",
    "leg = LMappearancePlot.legend(['Visibility', 'Landmark width','Landmark height'])\n",
    "leg.get_frame().set_linewidth(0.0)\n",
    "myAxisTheme(LMappearancePlot)"
   ]
  },
  {
   "cell_type": "markdown",
   "metadata": {},
   "source": [
    "## Add reinforcement"
   ]
  },
  {
   "cell_type": "code",
   "execution_count": 125,
   "metadata": {
    "collapsed": true
   },
   "outputs": [],
   "source": [
    "maxR = 50\n",
    "blR = 10\n",
    "rR = 15"
   ]
  },
  {
   "cell_type": "code",
   "execution_count": 126,
   "metadata": {
    "collapsed": false
   },
   "outputs": [],
   "source": [
    "# Profile of reinforcement level \n",
    "maxrR = float(min(rR, maxDist))\n",
    "\n",
    "profileR = np.concatenate((maxR - np.linspace(0,maxR*(maxrR/rR)-blR,(maxrR+1)*nPts),\n",
    "                           blR*np.ones((maxDist-rR)*nPts)))"
   ]
  },
  {
   "cell_type": "code",
   "execution_count": 1,
   "metadata": {
    "collapsed": false
   },
   "outputs": [
    {
     "ename": "NameError",
     "evalue": "name 'profileR' is not defined",
     "output_type": "error",
     "traceback": [
      "\u001b[0;31m---------------------------------------------------------------------------\u001b[0m",
      "\u001b[0;31mNameError\u001b[0m                                 Traceback (most recent call last)",
      "\u001b[0;32m<ipython-input-1-050e3dccefb4>\u001b[0m in \u001b[0;36m<module>\u001b[0;34m()\u001b[0m\n\u001b[0;32m----> 1\u001b[0;31m \u001b[0mprofileR\u001b[0m\u001b[0;34m[\u001b[0m\u001b[0mnp\u001b[0m\u001b[0;34m.\u001b[0m\u001b[0mwhere\u001b[0m\u001b[0;34m(\u001b[0m\u001b[0mdistRange\u001b[0m\u001b[0;34m==\u001b[0m\u001b[0mLMwidth\u001b[0m\u001b[0;34m/\u001b[0m\u001b[0;36m2\u001b[0m\u001b[0;34m)\u001b[0m\u001b[0;34m[\u001b[0m\u001b[0;36m0\u001b[0m\u001b[0;34m]\u001b[0m\u001b[0;34m]\u001b[0m\u001b[0;34m\u001b[0m\u001b[0m\n\u001b[0m",
      "\u001b[0;31mNameError\u001b[0m: name 'profileR' is not defined"
     ]
    }
   ],
   "source": [
    "profileR[np.where(distRange==LMwidth/2)[0]]"
   ]
  },
  {
   "cell_type": "code",
   "execution_count": 128,
   "metadata": {
    "collapsed": false
   },
   "outputs": [
    {
     "data": {
      "image/png": "[encoded data removed]",
      "text/plain": [
       "<matplotlib.figure.Figure at 0x11d649bd0>"
      ]
     },
     "metadata": {},
     "output_type": "display_data"
    }
   ],
   "source": [
    "LMappearanceFig = plt.figure(figsize=(10,6))\n",
    "LMappearancePlot = LMappearanceFig.add_subplot(111)\n",
    "\n",
    "LMappearancePlot.plot(distRange, visibility, color='steelblue', linewidth=2)\n",
    "LMappearancePlot.plot(distRange,alphaWidth, color='black', linewidth= 2)\n",
    "LMappearancePlot.plot(distRange,alphaHeight, color='grey', linewidth= 2)\n",
    "LMappearancePlot.plot(distRange,profileR, color='tomato', linewidth= 2)\n",
    "\n",
    "LMappearancePlot.plot(distRange, visibility[::-1], color='steelblue', linewidth=2, linestyle='dashed')\n",
    "\n",
    "LMappearancePlot.axhline(y=20,linestyle='dashed',color='black')\n",
    "LMappearancePlot.axhline(y=80,linestyle='dashed',color='grey')\n",
    "LMappearancePlot.axhline(y=120,linestyle='dashed',color='black')\n",
    "\n",
    "LMappearancePlot.axvline(x=LMwidth/2,linestyle='dashed',color='black')\n",
    "\n",
    "LMappearancePlot.set_ylim(-10,180)\n",
    "LMappearancePlot.set_xlabel('Landmark distance [mm]')\n",
    "LMappearancePlot.set_ylabel('Landmark visibility [%]\\nLandmark width and height [deg]')\n",
    "leg = LMappearancePlot.legend(['Visibility', 'Landmark width','Landmark height','Reinforcement level'])\n",
    "leg.get_frame().set_linewidth(0.0)\n",
    "myAxisTheme(LMappearancePlot)"
   ]
  },
  {
   "cell_type": "markdown",
   "metadata": {},
   "source": [
    "## Interactive plot"
   ]
  },
  {
   "cell_type": "code",
   "execution_count": 148,
   "metadata": {
    "collapsed": false
   },
   "outputs": [
    {
     "data": {
      "text/html": [
       "\n",
       "    <div class=\"bk-root\">\n",
       "        <a href=\"http://bokeh.pydata.org\" target=\"_blank\" class=\"bk-logo bk-logo-small bk-logo-notebook\"></a>\n",
       "        <span id=\"0f77c23b-e838-413b-ac1e-af4d20609f3c\">Loading BokehJS ...</span>\n",
       "    </div>"
      ]
     },
     "metadata": {},
     "output_type": "display_data"
    },
    {
     "data": {
      "application/javascript": [
       "\n",
       "(function(global) {\n",
       "  function now() {\n",
       "    return new Date();\n",
       "  }\n",
       "\n",
       "  var force = true;\n",
       "\n",
       "  if (typeof (window._bokeh_onload_callbacks) === \"undefined\" || force === true) {\n",
       "    window._bokeh_onload_callbacks = [];\n",
       "    window._bokeh_is_loading = undefined;\n",
       "  }\n",
       "\n",
       "\n",
       "  \n",
       "  if (typeof (window._bokeh_timeout) === \"undefined\" || force === true) {\n",
       "    window._bokeh_timeout = Date.now() + 5000;\n",
       "    window._bokeh_failed_load = false;\n",
       "  }\n",
       "\n",
       "  var NB_LOAD_WARNING = {'data': {'text/html':\n",
       "     \"<div style='background-color: #fdd'>\\n\"+\n",
       "     \"<p>\\n\"+\n",
       "     \"BokehJS does not appear to have successfully loaded. If loading BokehJS from CDN, this \\n\"+\n",
       "     \"may be due to a slow or bad network connection. Possible fixes:\\n\"+\n",
       "     \"</p>\\n\"+\n",
       "     \"<ul>\\n\"+\n",
       "     \"<li>re-rerun `output_notebook()` to attempt to load from CDN again, or</li>\\n\"+\n",
       "     \"<li>use INLINE resources instead, as so:</li>\\n\"+\n",
       "     \"</ul>\\n\"+\n",
       "     \"<code>\\n\"+\n",
       "     \"from bokeh.resources import INLINE\\n\"+\n",
       "     \"output_notebook(resources=INLINE)\\n\"+\n",
       "     \"</code>\\n\"+\n",
       "     \"</div>\"}};\n",
       "\n",
       "  function display_loaded() {\n",
       "    if (window.Bokeh !== undefined) {\n",
       "      document.getElementById(\"0f77c23b-e838-413b-ac1e-af4d20609f3c\").textContent = \"BokehJS successfully loaded.\";\n",
       "    } else if (Date.now() < window._bokeh_timeout) {\n",
       "      setTimeout(display_loaded, 100)\n",
       "    }\n",
       "  }\n",
       "\n",
       "  function run_callbacks() {\n",
       "    window._bokeh_onload_callbacks.forEach(function(callback) { callback() });\n",
       "    delete window._bokeh_onload_callbacks\n",
       "    console.info(\"Bokeh: all callbacks have finished\");\n",
       "  }\n",
       "\n",
       "  function load_libs(js_urls, callback) {\n",
       "    window._bokeh_onload_callbacks.push(callback);\n",
       "    if (window._bokeh_is_loading > 0) {\n",
       "      console.log(\"Bokeh: BokehJS is being loaded, scheduling callback at\", now());\n",
       "      return null;\n",
       "    }\n",
       "    if (js_urls == null || js_urls.length === 0) {\n",
       "      run_callbacks();\n",
       "      return null;\n",
       "    }\n",
       "    console.log(\"Bokeh: BokehJS not loaded, scheduling load and callback at\", now());\n",
       "    window._bokeh_is_loading = js_urls.length;\n",
       "    for (var i = 0; i < js_urls.length; i++) {\n",
       "      var url = js_urls[i];\n",
       "      var s = document.createElement('script');\n",
       "      s.src = url;\n",
       "      s.async = false;\n",
       "      s.onreadystatechange = s.onload = function() {\n",
       "        window._bokeh_is_loading--;\n",
       "        if (window._bokeh_is_loading === 0) {\n",
       "          console.log(\"Bokeh: all BokehJS libraries loaded\");\n",
       "          run_callbacks()\n",
       "        }\n",
       "      };\n",
       "      s.onerror = function() {\n",
       "        console.warn(\"failed to load library \" + url);\n",
       "      };\n",
       "      console.log(\"Bokeh: injecting script tag for BokehJS library: \", url);\n",
       "      document.getElementsByTagName(\"head\")[0].appendChild(s);\n",
       "    }\n",
       "  };var element = document.getElementById(\"0f77c23b-e838-413b-ac1e-af4d20609f3c\");\n",
       "  if (element == null) {\n",
       "    console.log(\"Bokeh: ERROR: autoload.js configured with elementid '0f77c23b-e838-413b-ac1e-af4d20609f3c' but no matching script tag was found. \")\n",
       "    return false;\n",
       "  }\n",
       "\n",
       "  var js_urls = [\"https://cdn.pydata.org/bokeh/release/bokeh-0.12.4.min.js\", \"https://cdn.pydata.org/bokeh/release/bokeh-widgets-0.12.4.min.js\"];\n",
       "\n",
       "  var inline_js = [\n",
       "    function(Bokeh) {\n",
       "      Bokeh.set_log_level(\"info\");\n",
       "    },\n",
       "    \n",
       "    function(Bokeh) {\n",
       "      \n",
       "      document.getElementById(\"0f77c23b-e838-413b-ac1e-af4d20609f3c\").textContent = \"BokehJS is loading...\";\n",
       "    },\n",
       "    function(Bokeh) {\n",
       "      console.log(\"Bokeh: injecting CSS: https://cdn.pydata.org/bokeh/release/bokeh-0.12.4.min.css\");\n",
       "      Bokeh.embed.inject_css(\"https://cdn.pydata.org/bokeh/release/bokeh-0.12.4.min.css\");\n",
       "      console.log(\"Bokeh: injecting CSS: https://cdn.pydata.org/bokeh/release/bokeh-widgets-0.12.4.min.css\");\n",
       "      Bokeh.embed.inject_css(\"https://cdn.pydata.org/bokeh/release/bokeh-widgets-0.12.4.min.css\");\n",
       "    }\n",
       "  ];\n",
       "\n",
       "  function run_inline_js() {\n",
       "    \n",
       "    if ((window.Bokeh !== undefined) || (force === true)) {\n",
       "      for (var i = 0; i < inline_js.length; i++) {\n",
       "        inline_js[i](window.Bokeh);\n",
       "      }if (force === true) {\n",
       "        display_loaded();\n",
       "      }} else if (Date.now() < window._bokeh_timeout) {\n",
       "      setTimeout(run_inline_js, 100);\n",
       "    } else if (!window._bokeh_failed_load) {\n",
       "      console.log(\"Bokeh: BokehJS failed to load within specified timeout.\");\n",
       "      window._bokeh_failed_load = true;\n",
       "    } else if (force !== true) {\n",
       "      var cell = $(document.getElementById(\"0f77c23b-e838-413b-ac1e-af4d20609f3c\")).parents('.cell').data().cell;\n",
       "      cell.output_area.append_execute_result(NB_LOAD_WARNING)\n",
       "    }\n",
       "\n",
       "  }\n",
       "\n",
       "  if (window._bokeh_is_loading === 0) {\n",
       "    console.log(\"Bokeh: BokehJS loaded, going straight to plotting\");\n",
       "    run_inline_js();\n",
       "  } else {\n",
       "    load_libs(js_urls, function() {\n",
       "      console.log(\"Bokeh: BokehJS plotting callback run at\", now());\n",
       "      run_inline_js();\n",
       "    });\n",
       "  }\n",
       "}(this));"
      ]
     },
     "metadata": {},
     "output_type": "display_data"
    }
   ],
   "source": [
    "from bokeh.io import output_notebook, push_notebook, push\n",
    "from bokeh.layouts import widgetbox, row\n",
    "from bokeh.models import CustomJS,Slider \n",
    "from bokeh.plotting import figure, output_file, show, ColumnDataSource\n",
    "\n",
    "output_notebook()"
   ]
  },
  {
   "cell_type": "code",
   "execution_count": 152,
   "metadata": {
    "collapsed": false
   },
   "outputs": [
    {
     "data": {
      "text/html": [
       "\n",
       "\n",
       "    <div class=\"bk-root\">\n",
       "        <div class=\"bk-plotdiv\" id=\"3164a235-a8a3-430e-be69-6a1f06e4aad4\"></div>\n",
       "    </div>\n",
       "<script type=\"text/javascript\">\n",
       "  \n",
       "  (function(global) {\n",
       "    function now() {\n",
       "      return new Date();\n",
       "    }\n",
       "  \n",
       "    var force = false;\n",
       "  \n",
       "    if (typeof (window._bokeh_onload_callbacks) === \"undefined\" || force === true) {\n",
       "      window._bokeh_onload_callbacks = [];\n",
       "      window._bokeh_is_loading = undefined;\n",
       "    }\n",
       "  \n",
       "  \n",
       "    \n",
       "    if (typeof (window._bokeh_timeout) === \"undefined\" || force === true) {\n",
       "      window._bokeh_timeout = Date.now() + 0;\n",
       "      window._bokeh_failed_load = false;\n",
       "    }\n",
       "  \n",
       "    var NB_LOAD_WARNING = {'data': {'text/html':\n",
       "       \"<div style='background-color: #fdd'>\\n\"+\n",
       "       \"<p>\\n\"+\n",
       "       \"BokehJS does not appear to have successfully loaded. If loading BokehJS from CDN, this \\n\"+\n",
       "       \"may be due to a slow or bad network connection. Possible fixes:\\n\"+\n",
       "       \"</p>\\n\"+\n",
       "       \"<ul>\\n\"+\n",
       "       \"<li>re-rerun `output_notebook()` to attempt to load from CDN again, or</li>\\n\"+\n",
       "       \"<li>use INLINE resources instead, as so:</li>\\n\"+\n",
       "       \"</ul>\\n\"+\n",
       "       \"<code>\\n\"+\n",
       "       \"from bokeh.resources import INLINE\\n\"+\n",
       "       \"output_notebook(resources=INLINE)\\n\"+\n",
       "       \"</code>\\n\"+\n",
       "       \"</div>\"}};\n",
       "  \n",
       "    function display_loaded() {\n",
       "      if (window.Bokeh !== undefined) {\n",
       "        document.getElementById(\"3164a235-a8a3-430e-be69-6a1f06e4aad4\").textContent = \"BokehJS successfully loaded.\";\n",
       "      } else if (Date.now() < window._bokeh_timeout) {\n",
       "        setTimeout(display_loaded, 100)\n",
       "      }\n",
       "    }if ((window.Jupyter !== undefined) && Jupyter.notebook.kernel) {\n",
       "      comm_manager = Jupyter.notebook.kernel.comm_manager\n",
       "      comm_manager.register_target(\"26d8ef2b-5dae-47c7-b7b1-a64e651b0713\", function () {});\n",
       "    }\n",
       "  \n",
       "    function run_callbacks() {\n",
       "      window._bokeh_onload_callbacks.forEach(function(callback) { callback() });\n",
       "      delete window._bokeh_onload_callbacks\n",
       "      console.info(\"Bokeh: all callbacks have finished\");\n",
       "    }\n",
       "  \n",
       "    function load_libs(js_urls, callback) {\n",
       "      window._bokeh_onload_callbacks.push(callback);\n",
       "      if (window._bokeh_is_loading > 0) {\n",
       "        console.log(\"Bokeh: BokehJS is being loaded, scheduling callback at\", now());\n",
       "        return null;\n",
       "      }\n",
       "      if (js_urls == null || js_urls.length === 0) {\n",
       "        run_callbacks();\n",
       "        return null;\n",
       "      }\n",
       "      console.log(\"Bokeh: BokehJS not loaded, scheduling load and callback at\", now());\n",
       "      window._bokeh_is_loading = js_urls.length;\n",
       "      for (var i = 0; i < js_urls.length; i++) {\n",
       "        var url = js_urls[i];\n",
       "        var s = document.createElement('script');\n",
       "        s.src = url;\n",
       "        s.async = false;\n",
       "        s.onreadystatechange = s.onload = function() {\n",
       "          window._bokeh_is_loading--;\n",
       "          if (window._bokeh_is_loading === 0) {\n",
       "            console.log(\"Bokeh: all BokehJS libraries loaded\");\n",
       "            run_callbacks()\n",
       "          }\n",
       "        };\n",
       "        s.onerror = function() {\n",
       "          console.warn(\"failed to load library \" + url);\n",
       "        };\n",
       "        console.log(\"Bokeh: injecting script tag for BokehJS library: \", url);\n",
       "        document.getElementsByTagName(\"head\")[0].appendChild(s);\n",
       "      }\n",
       "    };var element = document.getElementById(\"3164a235-a8a3-430e-be69-6a1f06e4aad4\");\n",
       "    if (element == null) {\n",
       "      console.log(\"Bokeh: ERROR: autoload.js configured with elementid '3164a235-a8a3-430e-be69-6a1f06e4aad4' but no matching script tag was found. \")\n",
       "      return false;\n",
       "    }\n",
       "  \n",
       "    var js_urls = [];\n",
       "  \n",
       "    var inline_js = [\n",
       "      function(Bokeh) {\n",
       "        (function() {\n",
       "          var fn = function() {\n",
       "            var docs_json = {\"a0413186-133f-4841-bfce-82296151dff2\":{\"roots\":{\"references\":[{\"attributes\":{\"dimension\":1,\"plot\":{\"id\":\"be845ef1-706b-43ae-a51d-d119a1a3e193\",\"subtype\":\"Figure\",\"type\":\"Plot\"},\"ticker\":{\"id\":\"9e75cfb4-09ae-46e2-938d-b4c2791bbf1f\",\"type\":\"BasicTicker\"}},\"id\":\"befd3d02-3cda-4ed2-af34-877ef1a802f2\",\"type\":\"Grid\"},{\"attributes\":{\"callback\":{\"id\":\"ec0a5e80-7642-4bde-b6f6-c0569adf6ca3\",\"type\":\"CustomJS\"},\"end\":20,\"start\":0.5,\"step\":0.5,\"title\":\"Landmark width [mm]\",\"value\":10},\"id\":\"20d3387a-a1e2-458c-857f-a7c026d4a725\",\"type\":\"Slider\"},{\"attributes\":{},\"id\":\"81483dcd-56ec-4a4b-b956-47779d0f8415\",\"type\":\"ToolEvents\"},{\"attributes\":{\"line_width\":{\"value\":2},\"x\":{\"field\":\"x\"},\"y\":{\"field\":\"y1\"}},\"id\":\"607c5411-e9e4-45db-bd55-ff181775d6b2\",\"type\":\"Line\"},{\"attributes\":{\"plot\":{\"id\":\"be845ef1-706b-43ae-a51d-d119a1a3e193\",\"subtype\":\"Figure\",\"type\":\"Plot\"}},\"id\":\"073be1b2-7d02-4543-8ade-82f263f6f26d\",\"type\":\"SaveTool\"},{\"attributes\":{\"line_color\":{\"value\":\"grey\"},\"line_width\":{\"value\":2},\"x\":{\"field\":\"x\"},\"y\":{\"field\":\"y2\"}},\"id\":\"4b58172e-3c7b-4df2-9464-5b46d18dab6a\",\"type\":\"Line\"},{\"attributes\":{\"children\":[{\"id\":\"be845ef1-706b-43ae-a51d-d119a1a3e193\",\"subtype\":\"Figure\",\"type\":\"Plot\"},{\"id\":\"5eedff04-5343-4652-9f4e-4366173bbdfc\",\"type\":\"WidgetBox\"}]},\"id\":\"38e16cbf-685b-4471-a6e4-cd7ff7e96bce\",\"type\":\"Row\"},{\"attributes\":{\"line_alpha\":{\"value\":0.1},\"line_color\":{\"value\":\"#1f77b4\"},\"line_width\":{\"value\":2},\"x\":{\"field\":\"x\"},\"y\":{\"field\":\"y2\"}},\"id\":\"c1eb6961-e827-4883-a670-d2d8237ba9ed\",\"type\":\"Line\"},{\"attributes\":{\"plot\":{\"id\":\"be845ef1-706b-43ae-a51d-d119a1a3e193\",\"subtype\":\"Figure\",\"type\":\"Plot\"}},\"id\":\"ba19a640-af7e-48c1-8954-88a95178043e\",\"type\":\"PanTool\"},{\"attributes\":{\"callback\":null,\"column_names\":[\"y1\",\"x\",\"y2\"],\"data\":{\"x\":{\"__ndarray__\":\"AAAAAAAAAACc1H15bEXwP5zUfXlsRQBA6r48tiJoCECc1H15bEUQQMNJ3ZfHVhRA6r48tiJoGEARNJzUfXkcQJzUfXlsRSBAMI+tCBpOIkDDSd2Xx1YkQFYEDSd1XyZA6r48tiJoKEB+eWxF0HAqQBE0nNR9eSxApO7LYyuCLkCc1H15bEUwQOaxFUHDSTFAMI+tCBpOMkB5bEXQcFIzQMNJ3ZfHVjRADSd1Xx5bNUBWBA0ndV82QKDhpO7LYzdA6r48tiJoOEA0nNR9eWw5QH55bEXQcDpAx1YEDSd1O0ARNJzUfXk8QFsRNJzUfT1ApO7LYyuCPkDuy2MrgoY/QJzUfXlsRUBAQcNJ3ZfHQEDmsRVBw0lBQIug4aTuy0FAMI+tCBpOQkDUfXlsRdBCQHlsRdBwUkNAHlsRNJzUQ0DDSd2Xx1ZEQGg4qfvy2ERADSd1Xx5bRUCyFUHDSd1FQFYEDSd1X0ZA+/LYiqDhRkCg4aTuy2NHQEXQcFL35UdA6r48tiJoSECPrQgaTupIQDSc1H15bElA2Yqg4aTuSUB+eWxF0HBKQCJoOKn78kpAx1YEDSd1S0BsRdBwUvdLQBE0nNR9eUxAtiJoOKn7TEBbETSc1H1NQAAAAAAAAE5A\",\"dtype\":\"float64\",\"shape\":[60]},\"y1\":{\"__ndarray__\":\"AAAAAACAZkDZlgI7Eu9iQDs3MwAfhl9ApKmQ11lVWkAZ5BZUX0JWQGfeMAtxGFNAnKV/6p+fUEBtF0hw81RNQBi3OfCKLkpAZVOziWubR0BklS+Yq3hFQFWqmHICrUNA/j9b8OIlQkCF8YF9fNVAQN/8oSy7Yj9A6bzJEwdjPUBLThpGZ587QGC2P5kLDjpAijfnwSGnOEAUbQJQXGQ3QDGyKwKaQDZAdHTJ9KM3NUAr0X0v/EU0QG9MMxG4aDNAhRBTcmOdMkBIIp0+6uExQFTaeumGNDFAOC9OkLSTMEAJ/abbR/wvQJiTAfVk5S5A5QaofcbgLUBKGdr0sewsQMRUr7GiByxAh5uR+kEwK0AI/rB1YGUqQLSiEbDwpSlAJcv3hgLxKECjWVBKv0UoQP5OGHdmoydAr9VN70oJJ0CuexOa0HYmQJz2tlpq6yVAHbZ/UJhmJUCGirZT5uckQCgqY6bqbiRAWjri0ET7I0BoHMyjnIwjQFGqulmhIiNA1i9f1Ai9IkCnVxTxjlsiQAlosfH0/SFATUvj9gCkIUAQeLmJfU0hQNHUbDI5+iBAO1ewGgaqIEAq8hi6uVwgQBt2XossEiBAXArGknOUH0AZBihmfgkfQIUwrqo5gx5A\",\"dtype\":\"float64\",\"shape\":[60]},\"y2\":{\"__ndarray__\":\"AAAAAACAVkAyWd2vvgNWQDTiKUHGh1VAEvwcll4MVUDTwSibzZFUQMX3NWFWGFRAOsS/TzigU0DxTHl0rilTQIV/efTutFJAq68foSpCUkAVLiOxjNFRQKlpqJw6Y1FA3avfGVT3UEBh8qo2841QQCR1F4ssJ1BAOzczAB+GT0Dwis1LTcNOQA0M5SrwBU5AtuvbsQtOTUBTG0GvnJtMQFeT+YOZ7ktA8rzH9vJGS0B3ljP/lKRKQBK23oRnB0pA66o7EU9vSUCovGtyLdxIQBw0r07iTUhAihJcqEvER0Dq5rdSRj9HQB++XliuvkZAGeQWVF9CRkBQShO9NMpFQGq3uCcKVkVA5Nb/e7vlREBh3IoiJXlEQAJFeykkEERA128FYpaqQ0DVAK53WkhDQO6cCQJQ6UJAEI7DkVeNQkBpApy5UjRCQFJs+xMk3kFABGOmRa+KQUBpgQz+2DlBQIc+nfWG60BAnKV/6p+fQEBUJ/2bC1ZAQGFt5MSyDkBAIyQ+Kv6SP0A1jlhVtgw/QOhwVRRlij5AzG4qLuMLPkCHu58XC5E9QNyQPOO4GT1AdVguMcqlPEDIlksfHjU8QIRATTmVxztAarVTaRFdO0DfAMjodfU6QMUdpjGnkDpA\",\"dtype\":\"float64\",\"shape\":[60]}}},\"id\":\"40d1fdd5-3891-4d20-932c-ab5d03ee539e\",\"type\":\"ColumnDataSource\"},{\"attributes\":{\"callback\":null,\"end\":60},\"id\":\"c979132a-a1b1-4b7f-905c-f6a99aa56d94\",\"type\":\"Range1d\"},{\"attributes\":{},\"id\":\"a8f407c7-82c9-4681-9dc6-d76fd597ad64\",\"type\":\"BasicTicker\"},{\"attributes\":{\"callback\":{\"id\":\"ec0a5e80-7642-4bde-b6f6-c0569adf6ca3\",\"type\":\"CustomJS\"},\"end\":60,\"start\":1,\"step\":1,\"title\":\"Landmark height [mm]\",\"value\":40},\"id\":\"abb865a0-f036-4fc4-a641-a94bc612c769\",\"type\":\"Slider\"},{\"attributes\":{\"active_drag\":\"auto\",\"active_scroll\":\"auto\",\"active_tap\":\"auto\",\"tools\":[{\"id\":\"ba19a640-af7e-48c1-8954-88a95178043e\",\"type\":\"PanTool\"},{\"id\":\"720a07fa-54dd-4c0a-8832-6fee4ef8a1a0\",\"type\":\"WheelZoomTool\"},{\"id\":\"8f961e63-d88d-451b-8cdb-af42713e4e5e\",\"type\":\"BoxZoomTool\"},{\"id\":\"073be1b2-7d02-4543-8ade-82f263f6f26d\",\"type\":\"SaveTool\"},{\"id\":\"3094afe3-ebae-41b1-b882-8312c5bf4846\",\"type\":\"ResetTool\"},{\"id\":\"6524eaa5-9f9b-489f-a99a-6467cf685ad6\",\"type\":\"HelpTool\"}]},\"id\":\"694dc675-31d6-4abf-84e4-4df4b8de01c6\",\"type\":\"Toolbar\"},{\"attributes\":{\"axis_label\":\"Angular size [deg]\",\"formatter\":{\"id\":\"c7c0e453-cd88-4fbe-94bf-419ddced6f42\",\"type\":\"BasicTickFormatter\"},\"plot\":{\"id\":\"be845ef1-706b-43ae-a51d-d119a1a3e193\",\"subtype\":\"Figure\",\"type\":\"Plot\"},\"ticker\":{\"id\":\"9e75cfb4-09ae-46e2-938d-b4c2791bbf1f\",\"type\":\"BasicTicker\"}},\"id\":\"c6a4191f-72ae-4a80-9f4c-4509b1bcd19e\",\"type\":\"LinearAxis\"},{\"attributes\":{},\"id\":\"c7c0e453-cd88-4fbe-94bf-419ddced6f42\",\"type\":\"BasicTickFormatter\"},{\"attributes\":{\"data_source\":{\"id\":\"40d1fdd5-3891-4d20-932c-ab5d03ee539e\",\"type\":\"ColumnDataSource\"},\"glyph\":{\"id\":\"4b58172e-3c7b-4df2-9464-5b46d18dab6a\",\"type\":\"Line\"},\"hover_glyph\":null,\"nonselection_glyph\":{\"id\":\"c1eb6961-e827-4883-a670-d2d8237ba9ed\",\"type\":\"Line\"},\"selection_glyph\":null},\"id\":\"b645b226-d26a-4aeb-80ac-844291c1cc65\",\"type\":\"GlyphRenderer\"},{\"attributes\":{\"below\":[{\"id\":\"3d6126d8-6c7d-4957-beb4-edd5701fbcb1\",\"type\":\"LinearAxis\"}],\"left\":[{\"id\":\"c6a4191f-72ae-4a80-9f4c-4509b1bcd19e\",\"type\":\"LinearAxis\"}],\"plot_height\":400,\"renderers\":[{\"id\":\"3d6126d8-6c7d-4957-beb4-edd5701fbcb1\",\"type\":\"LinearAxis\"},{\"id\":\"5128c0ed-904d-496b-ac84-9878a4bc3f0e\",\"type\":\"Grid\"},{\"id\":\"c6a4191f-72ae-4a80-9f4c-4509b1bcd19e\",\"type\":\"LinearAxis\"},{\"id\":\"befd3d02-3cda-4ed2-af34-877ef1a802f2\",\"type\":\"Grid\"},{\"id\":\"4bc57184-850b-47ea-821f-19867d542000\",\"type\":\"BoxAnnotation\"},{\"id\":\"cae8ddb2-09f9-4c61-a47f-fd88a598ab3c\",\"type\":\"GlyphRenderer\"},{\"id\":\"b645b226-d26a-4aeb-80ac-844291c1cc65\",\"type\":\"GlyphRenderer\"}],\"title\":{\"id\":\"33fa40db-0b13-4b69-8b79-5636fa7bc6da\",\"type\":\"Title\"},\"tool_events\":{\"id\":\"81483dcd-56ec-4a4b-b956-47779d0f8415\",\"type\":\"ToolEvents\"},\"toolbar\":{\"id\":\"694dc675-31d6-4abf-84e4-4df4b8de01c6\",\"type\":\"Toolbar\"},\"x_range\":{\"id\":\"c979132a-a1b1-4b7f-905c-f6a99aa56d94\",\"type\":\"Range1d\"},\"y_range\":{\"id\":\"7cff2cca-9207-4e64-b73d-9c0410f2ddb3\",\"type\":\"Range1d\"}},\"id\":\"be845ef1-706b-43ae-a51d-d119a1a3e193\",\"subtype\":\"Figure\",\"type\":\"Plot\"},{\"attributes\":{\"plot\":{\"id\":\"be845ef1-706b-43ae-a51d-d119a1a3e193\",\"subtype\":\"Figure\",\"type\":\"Plot\"}},\"id\":\"6524eaa5-9f9b-489f-a99a-6467cf685ad6\",\"type\":\"HelpTool\"},{\"attributes\":{\"callback\":null,\"end\":180,\"start\":-10},\"id\":\"7cff2cca-9207-4e64-b73d-9c0410f2ddb3\",\"type\":\"Range1d\"},{\"attributes\":{\"plot\":null,\"text\":\"\"},\"id\":\"33fa40db-0b13-4b69-8b79-5636fa7bc6da\",\"type\":\"Title\"},{\"attributes\":{\"data_source\":{\"id\":\"40d1fdd5-3891-4d20-932c-ab5d03ee539e\",\"type\":\"ColumnDataSource\"},\"glyph\":{\"id\":\"607c5411-e9e4-45db-bd55-ff181775d6b2\",\"type\":\"Line\"},\"hover_glyph\":null,\"nonselection_glyph\":{\"id\":\"42862b6c-3a26-4931-a78b-16e03064974a\",\"type\":\"Line\"},\"selection_glyph\":null},\"id\":\"cae8ddb2-09f9-4c61-a47f-fd88a598ab3c\",\"type\":\"GlyphRenderer\"},{\"attributes\":{\"line_alpha\":{\"value\":0.1},\"line_color\":{\"value\":\"#1f77b4\"},\"line_width\":{\"value\":2},\"x\":{\"field\":\"x\"},\"y\":{\"field\":\"y1\"}},\"id\":\"42862b6c-3a26-4931-a78b-16e03064974a\",\"type\":\"Line\"},{\"attributes\":{},\"id\":\"7d799f36-6c38-49ce-8bc1-bbf5e0df7cf9\",\"type\":\"BasicTickFormatter\"},{\"attributes\":{\"plot\":{\"id\":\"be845ef1-706b-43ae-a51d-d119a1a3e193\",\"subtype\":\"Figure\",\"type\":\"Plot\"}},\"id\":\"3094afe3-ebae-41b1-b882-8312c5bf4846\",\"type\":\"ResetTool\"},{\"attributes\":{\"bottom_units\":\"screen\",\"fill_alpha\":{\"value\":0.5},\"fill_color\":{\"value\":\"lightgrey\"},\"left_units\":\"screen\",\"level\":\"overlay\",\"line_alpha\":{\"value\":1.0},\"line_color\":{\"value\":\"black\"},\"line_dash\":[4,4],\"line_width\":{\"value\":2},\"plot\":null,\"render_mode\":\"css\",\"right_units\":\"screen\",\"top_units\":\"screen\"},\"id\":\"4bc57184-850b-47ea-821f-19867d542000\",\"type\":\"BoxAnnotation\"},{\"attributes\":{},\"id\":\"9e75cfb4-09ae-46e2-938d-b4c2791bbf1f\",\"type\":\"BasicTicker\"},{\"attributes\":{\"children\":[{\"id\":\"20d3387a-a1e2-458c-857f-a7c026d4a725\",\"type\":\"Slider\"},{\"id\":\"abb865a0-f036-4fc4-a641-a94bc612c769\",\"type\":\"Slider\"}]},\"id\":\"5eedff04-5343-4652-9f4e-4366173bbdfc\",\"type\":\"WidgetBox\"},{\"attributes\":{\"overlay\":{\"id\":\"4bc57184-850b-47ea-821f-19867d542000\",\"type\":\"BoxAnnotation\"},\"plot\":{\"id\":\"be845ef1-706b-43ae-a51d-d119a1a3e193\",\"subtype\":\"Figure\",\"type\":\"Plot\"}},\"id\":\"8f961e63-d88d-451b-8cdb-af42713e4e5e\",\"type\":\"BoxZoomTool\"},{\"attributes\":{\"plot\":{\"id\":\"be845ef1-706b-43ae-a51d-d119a1a3e193\",\"subtype\":\"Figure\",\"type\":\"Plot\"},\"ticker\":{\"id\":\"a8f407c7-82c9-4681-9dc6-d76fd597ad64\",\"type\":\"BasicTicker\"}},\"id\":\"5128c0ed-904d-496b-ac84-9878a4bc3f0e\",\"type\":\"Grid\"},{\"attributes\":{\"axis_label\":\"Landmark distance [mm]\",\"formatter\":{\"id\":\"7d799f36-6c38-49ce-8bc1-bbf5e0df7cf9\",\"type\":\"BasicTickFormatter\"},\"plot\":{\"id\":\"be845ef1-706b-43ae-a51d-d119a1a3e193\",\"subtype\":\"Figure\",\"type\":\"Plot\"},\"ticker\":{\"id\":\"a8f407c7-82c9-4681-9dc6-d76fd597ad64\",\"type\":\"BasicTicker\"}},\"id\":\"3d6126d8-6c7d-4957-beb4-edd5701fbcb1\",\"type\":\"LinearAxis\"},{\"attributes\":{\"plot\":{\"id\":\"be845ef1-706b-43ae-a51d-d119a1a3e193\",\"subtype\":\"Figure\",\"type\":\"Plot\"}},\"id\":\"720a07fa-54dd-4c0a-8832-6fee4ef8a1a0\",\"type\":\"WheelZoomTool\"},{\"attributes\":{\"args\":{\"height\":{\"id\":\"abb865a0-f036-4fc4-a641-a94bc612c769\",\"type\":\"Slider\"},\"source\":{\"id\":\"40d1fdd5-3891-4d20-932c-ab5d03ee539e\",\"type\":\"ColumnDataSource\"},\"width\":{\"id\":\"20d3387a-a1e2-458c-857f-a7c026d4a725\",\"type\":\"Slider\"}},\"code\":\"\\n    var data = source.data;\\n    var lmw = width.value;\\n    var lmh = height.value;\\n    \\n    x = data['x']\\n    y1 = data['y1']\\n    y2 = data['y2']\\n    \\n    for (i = 0; i < x.length; i++) {\\n        y1[i] = 180/Math.PI * 2*Math.atan((lmw/2.0)/x[i]);\\n        y2[i] = 180/Math.PI * Math.atan((lmh)/x[i]);\\n    }\\n    source.trigger('change');\\n\"},\"id\":\"ec0a5e80-7642-4bde-b6f6-c0569adf6ca3\",\"type\":\"CustomJS\"}],\"root_ids\":[\"38e16cbf-685b-4471-a6e4-cd7ff7e96bce\"]},\"title\":\"Bokeh Application\",\"version\":\"0.12.4\"}};\n",
       "            var render_items = [{\"docid\":\"a0413186-133f-4841-bfce-82296151dff2\",\"elementid\":\"3164a235-a8a3-430e-be69-6a1f06e4aad4\",\"modelid\":\"38e16cbf-685b-4471-a6e4-cd7ff7e96bce\",\"notebook_comms_target\":\"26d8ef2b-5dae-47c7-b7b1-a64e651b0713\"}];\n",
       "            \n",
       "            Bokeh.embed.embed_items(docs_json, render_items);\n",
       "          };\n",
       "          if (document.readyState != \"loading\") fn();\n",
       "          else document.addEventListener(\"DOMContentLoaded\", fn);\n",
       "        })();\n",
       "      },\n",
       "      function(Bokeh) {\n",
       "      }\n",
       "    ];\n",
       "  \n",
       "    function run_inline_js() {\n",
       "      \n",
       "      if ((window.Bokeh !== undefined) || (force === true)) {\n",
       "        for (var i = 0; i < inline_js.length; i++) {\n",
       "          inline_js[i](window.Bokeh);\n",
       "        }if (force === true) {\n",
       "          display_loaded();\n",
       "        }} else if (Date.now() < window._bokeh_timeout) {\n",
       "        setTimeout(run_inline_js, 100);\n",
       "      } else if (!window._bokeh_failed_load) {\n",
       "        console.log(\"Bokeh: BokehJS failed to load within specified timeout.\");\n",
       "        window._bokeh_failed_load = true;\n",
       "      } else if (force !== true) {\n",
       "        var cell = $(document.getElementById(\"3164a235-a8a3-430e-be69-6a1f06e4aad4\")).parents('.cell').data().cell;\n",
       "        cell.output_area.append_execute_result(NB_LOAD_WARNING)\n",
       "      }\n",
       "  \n",
       "    }\n",
       "  \n",
       "    if (window._bokeh_is_loading === 0) {\n",
       "      console.log(\"Bokeh: BokehJS loaded, going straight to plotting\");\n",
       "      run_inline_js();\n",
       "    } else {\n",
       "      load_libs(js_urls, function() {\n",
       "        console.log(\"Bokeh: BokehJS plotting callback run at\", now());\n",
       "        run_inline_js();\n",
       "      });\n",
       "    }\n",
       "  }(this));\n",
       "</script>"
      ]
     },
     "metadata": {},
     "output_type": "display_data"
    },
    {
     "name": "stderr",
     "output_type": "stream",
     "text": [
      "INFO:bokeh.core.state:Session output file 'LandmarkSizePlot' already exists, will be overwritten.\n"
     ]
    }
   ],
   "source": [
    "x=np.linspace(minDist,maxDist,(maxDist-minDist)*nPts)\n",
    "y1=angleWidth(x)\n",
    "y2=angleHeight(x)\n",
    "\n",
    "vissource = ColumnDataSource(data=dict(x=x,y1=y1,y2=y2))\n",
    "\n",
    "visplot = figure(y_range=(-10,180), x_range=(minDist, maxDist), plot_width=600,plot_height=400)\n",
    "\n",
    "visplot.line('x','y1',source=vissource,line_width=2, color='black')\n",
    "visplot.line('x','y2',source=vissource,line_width=2, color='grey')\n",
    "\n",
    "\n",
    "callback = CustomJS(args=dict(source=vissource),code=\"\"\"\n",
    "    var data = source.data;\n",
    "    var lmw = width.value;\n",
    "    var lmh = height.value;\n",
    "    \n",
    "    x = data['x']\n",
    "    y1 = data['y1']\n",
    "    y2 = data['y2']\n",
    "    \n",
    "    for (i = 0; i < x.length; i++) {\n",
    "        y1[i] = 180/Math.PI * 2*Math.atan((lmw/2.0)/x[i]);\n",
    "        y2[i] = 180/Math.PI * Math.atan((lmh)/x[i]);\n",
    "    }\n",
    "    source.trigger('change');\n",
    "\"\"\")\n",
    "\n",
    "width_slider = Slider(start=0.5,end=20,value=10,step=0.5,title=\"Landmark width [mm]\",callback=callback)\n",
    "callback.args[\"width\"] = width_slider\n",
    "\n",
    "height_slider = Slider(start=1,end=60,value=40,step=1,title=\"Landmark height [mm]\",callback=callback)\n",
    "callback.args[\"height\"] = height_slider\n",
    "\n",
    "layout = row(\n",
    "    visplot,\n",
    "    widgetbox(width_slider, height_slider)\n",
    ")\n",
    "\n",
    "visplot.yaxis.axis_label = 'Angular size [deg]'\n",
    "visplot.xaxis.axis_label = 'Landmark distance [mm]'\n",
    "\n",
    "lohandle = show(layout, notebook_handle=True)\n",
    "#push_notebook(handle=lohandle)\n",
    "\n",
    "output_file('LandmarkSizePlot', title='Angular landmark size', mode='relative', root_dir=getcwd())"
   ]
  },
  {
   "cell_type": "code",
   "execution_count": null,
   "metadata": {
    "collapsed": true
   },
   "outputs": [],
   "source": [
    "# Landmark size in pixels (if in front of fly)\n",
    "\n"
   ]
  }
 ],
 "metadata": {
  "kernelspec": {
   "display_name": "Python 2",
   "language": "python",
   "name": "python2"
  }
 },
 "nbformat": 4,
 "nbformat_minor": 2
}
