{
 "metadata": {
  "name": "",
  "signature": "sha256:1f0fd29e961cc570da630486e87f6978a6289a25cec7827c986c07e23684ff17"
 },
 "nbformat": 3,
 "nbformat_minor": 0,
 "worksheets": [
  {
   "cells": [
    {
     "cell_type": "markdown",
     "metadata": {},
     "source": [
      "## Possible screening protocol:\n",
      "    \n",
      "###### Test responses to light in the whole arena\n",
      "- continuous light\n",
      "- pulsed light\n",
      "    \n",
      "###### Test if aversive or attractive\n",
      "* continuous light in 2 out of 4 quadrants; switch quadrants (twice)\n",
      "* maybe also pulsed light in 2 out of 4 quadrants; switch quadrants (twice)\n",
      "   \n",
      "Maybe repeat for different light intensity levels.\n",
      "\n",
      "\n",
      "Version:\t\t1\n",
      "\n",
      "Last update:\tJune 13, 2015 (Hannah Haberkern)\n"
     ]
    },
    {
     "cell_type": "code",
     "collapsed": false,
     "input": [
      "import time, serial\n",
      "from datetime import datetime"
     ],
     "language": "python",
     "metadata": {},
     "outputs": [],
     "prompt_number": 2
    },
    {
     "cell_type": "markdown",
     "metadata": {},
     "source": [
      "#### (1) Set protocol specific parameter"
     ]
    },
    {
     "cell_type": "code",
     "collapsed": false,
     "input": [
      "preProtocolWait = 10 #in sec\n",
      "\n",
      "serialPortName = '/dev/cu.usbmodem12341'\n",
      "\n",
      "LEDpowerContinuous = 20 #red LED power in percent\n",
      "LEDpowerPulsed = 20 #red LED power in percent\n",
      "IRpower = 20 #red LED power in percent\n",
      "\n",
      "continuousStim = dict([('stimSec',5),\n",
      "                       ('pauseSec',25),\n",
      "                       ('numRepeat',2)])\n",
      "# stimSec and pauseSec are in sec\n",
      "\n",
      "pulsedStim = dict([('stimSec',10),\n",
      "                   ('pauseSec',15),\n",
      "                   ('onMSec',5),\n",
      "                   ('offMSec',35),\n",
      "                   ('numRepeat',2)])\n",
      "# onMSec and offMSec are in ms\n",
      "\n",
      "patternedStim = dict([('stimSec',50),\n",
      "                      ('pauseSec',10),\n",
      "                      ('numRepeat',2)])\n",
      "\n",
      "defaultPattern = '1111111111111111'\n",
      "quadrantPatternA = '1100110000110011'\n",
      "quadrantPatternB = '0011001111001100'"
     ],
     "language": "python",
     "metadata": {},
     "outputs": [],
     "prompt_number": 3
    },
    {
     "cell_type": "markdown",
     "metadata": {},
     "source": [
      "#### (2) Log protocol parameter to file"
     ]
    },
    {
     "cell_type": "code",
     "collapsed": false,
     "input": [
      "experimentName = raw_input(\"Please enter a name for the exeriment: \")\n",
      "\n",
      "now = datetime.now()\n",
      "timeStamp = now.strftime(\"%Y%m%d-%H%M%S\")\n",
      "protocolFile = 'optogeneticsScreenProtocol_' + experimentName,'_' + timeStamp + '.txt'\n",
      "\n",
      "def writeDict(dict, fileHandle):\n",
      "    for i in dict.keys():\n",
      "        fileHandle.write(' ' + i + ': ' + str(dict[i]) + '\\n')\n",
      "\n",
      "with open(protocolFile, 'a+') as f:\n",
      "    f.write('Optogenetic Screen Protocol \\n \\n')\n",
      "        f.write('LED intensities... \\n')\n",
      "        f.write(' IR:' + str(IRpower) + '\\n')\n",
      "        f.write(' Red (continuous):' + str(LEDpowerContinuous) + '\\n')\n",
      "        f.write(' Red (pulsed):' + str(LEDpowerPulsed) + '\\n')\n",
      "        f.write('\\nContinuous stimulation parameter... \\n')\n",
      "        writeDict(continuousStim,f)\n",
      "        f.write('\\nPulsed stimulation parameter...\\n')\n",
      "        writeDict(pulsedStim,f)\n",
      "        f.write('\\nPatterned stimulation parameter...\\n')\n",
      "        writeDict(patternedStim,f)\n",
      "        f.write(' defaultPattern: ' + defaultPattern + '\\n')\n",
      "        f.write(' quadrantPatternA: ' + quadrantPatternA + '\\n')\n",
      "        f.write(' quadrantPatternB: ' + quadrantPatternB + '\\n')"
     ],
     "language": "python",
     "metadata": {},
     "outputs": []
    },
    {
     "cell_type": "markdown",
     "metadata": {},
     "source": [
      "#### (3) Define LED board control functions"
     ]
    },
    {
     "cell_type": "code",
     "collapsed": false,
     "input": [
      "def switchIROn(IRpower):\n",
      "    ser.write('IR ' + str(IRpower) + '\\r')\n",
      "        print('IR ' + str(IRpower) + '\\r')\n",
      "\n",
      "def setRedPower(LEDpower):\n",
      "    ser.write('CHR ' + str(LEDpower) + '\\r')\n",
      "        print('CHR ' + str(LEDpower) + '\\r')\n",
      "\n",
      "def switchRedOn(xLED,yLED):\n",
      "    ser.write('ON ' + ''.join([str(xLED),', ',str(yLED)]) + '\\r')\n",
      "        # x=0, y=0 turns all LEDs on\n",
      "        print('ON ' + ''.join([str(xLED),', ',str(yLED)]) + '\\r')\n",
      "\n",
      "def switchRedOff(xLED,yLED):\n",
      "    ser.write('OFF ' + ''.join([str(xLED),', ',str(yLED)]) + '\\r')\n",
      "        # x=0, y=0 turns all LEDs off\n",
      "        print('OFF ' + ''.join([str(xLED),', ',str(yLED)]) + '\\r')\n",
      "\n",
      "def pulseRedLight(pulseOnLength, pulseOffLength,pulseStimT):\n",
      "    ser.write('PULSE, ' + ','.join([str(pulseOnLength), str(pulseOnLength+pulseOffLength),'1000', '0', '0', '1']) + '\\r')\n",
      "        #PULSE width, period, number, off, wait, iterations  - pulse setup command\n",
      "        print('PULSE, ' + ','.join([str(pulseOnLength), str(pulseOnLength+pulseOffLength),'1000', '0', '0', '1']) + '\\r')\n",
      "        \n",
      "        ser.write('RUN \\r')\n",
      "        time.sleep(pulseStimT)\n",
      "        ser.write('STOP \\r')\n",
      "\n",
      "def setPattern(quadrantPattern):\n",
      "    ser.write('PATT, ' + quadrantPattern + '\\r')\n",
      "        print('PATT, ' + quadrantPattern + '\\r')"
     ],
     "language": "python",
     "metadata": {},
     "outputs": []
    },
    {
     "cell_type": "markdown",
     "metadata": {},
     "source": [
      "#### (4) Initialise and configure serial connection"
     ]
    },
    {
     "cell_type": "code",
     "collapsed": false,
     "input": [
      "ser = serial.Serial(serialPortName)\n",
      "ser.baudrate = 115200\n",
      "try:\n",
      "    ser.open()\n",
      "except:\n",
      "    print('Port was already open.')"
     ],
     "language": "python",
     "metadata": {},
     "outputs": []
    },
    {
     "cell_type": "markdown",
     "metadata": {},
     "source": [
      "#### (5) Switch on IR illumination with defined intensity"
     ]
    },
    {
     "cell_type": "code",
     "collapsed": false,
     "input": [
      "switchIROn(IRpower)\n",
      "time.sleep(preProtocolWait)"
     ],
     "language": "python",
     "metadata": {},
     "outputs": []
    },
    {
     "cell_type": "markdown",
     "metadata": {},
     "source": [
      "#### (6) Start experimental protocol"
     ]
    },
    {
     "cell_type": "code",
     "collapsed": false,
     "input": [
      "print('Starting protocol...........')\n",
      "\n",
      "#  a) test for responses to continous light\n",
      "#  continuous ON in whole arena for X s, then X s off (twice)\n",
      "setRedPower(LEDpowerContinuous)\n",
      "setPattern(defaultPattern)\n",
      "for repeat in range(continuousStim['numRepeat']):\n",
      "    switchRedOn(0,0)\n",
      "        time.sleep(continuousStim['stimSec'])\n",
      "        switchRedOff(0,0)\n",
      "        \n",
      "        time.sleep(continuousStim['pauseSec'])\n",
      "\n",
      "print('set 1 \"full-field continuous light\" done.............')\n",
      "\n",
      "#  b) test for responses to pulsed light\n",
      "#  1s on, 1s off in whole arena for X s, then X s off (twice)\n",
      "setRedPower(LEDpowerPulsed)\n",
      "setPattern(defaultPattern)\n",
      "for repeat in range(pulsedStim['numRepeat']):\n",
      "    pulseRedLight(pulsedStim['onMSec'],pulsedStim['offMSec'],pulsedStim['stimSec'])\n",
      "        time.sleep(pulsedStim['pauseSec'])\n",
      "\n",
      "\n",
      "print('set 2 \"full-field pulsed light\" done.............')\n",
      "\n",
      "#  c) 4-quadrant assay: continuous for X s in 2 out of 4 quadrants; switch quadrants (twice)\n",
      "setRedPower(LEDpowerContinuous)\n",
      "for repeat in range(patternedStim['numRepeat']):\n",
      "    setPattern(quadrantPatternA)\n",
      "        pulseRedLight(1000, 0,patternedStim['stimSec'])\n",
      "        time.sleep(patternedStim['pauseSec'])\n",
      "        \n",
      "        setPattern(quadrantPatternB)\n",
      "        pulseRedLight(1000, 0,patternedStim['stimSec'])\n",
      "        time.sleep(patternedStim['pauseSec'])\n",
      "\n",
      "print('set 3 \"quadrant continuous light\" done.............')"
     ],
     "language": "python",
     "metadata": {},
     "outputs": []
    },
    {
     "cell_type": "markdown",
     "metadata": {},
     "source": [
      "#### (7) Terminate session"
     ]
    },
    {
     "cell_type": "code",
     "collapsed": false,
     "input": [
      "ser.close()"
     ],
     "language": "python",
     "metadata": {},
     "outputs": []
    }
   ],
   "metadata": {}
  }
 ]
}