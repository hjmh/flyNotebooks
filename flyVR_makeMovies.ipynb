{
 "cells": [
  {
   "cell_type": "markdown",
   "metadata": {},
   "source": [
    "# Notebook for making movies of FlyOver trials\n",
    "### Loads data from a single VR trial at a time"
   ]
  },
  {
   "cell_type": "code",
   "execution_count": 1,
   "metadata": {
    "collapsed": true
   },
   "outputs": [],
   "source": [
    "import numpy as np\n",
    "import pandas as pd \n",
    "    \n",
    "from os import mkdir, walk, getcwd\n",
    "from os.path import sep, exists\n",
    "from sys import path, exit\n",
    "from glob import glob\n",
    "\n",
    "import matplotlib.pyplot as plt\n",
    "import matplotlib.colors as colors\n",
    "from matplotlib import gridspec\n",
    "import seaborn as sns\n",
    "\n",
    "from Tkinter import Tk\n",
    "from tkFileDialog import askdirectory, askopenfilename\n",
    "\n",
    "import imageio\n",
    "\n",
    "# Set path to analysis code directory\n",
    "codeDir = sep.join(getcwd().split(sep)[:-1])\n",
    "path.insert(1, codeDir)\n",
    "\n",
    "from flyVR.flyVRoptogenetics.flyVRoptogenetics_oneTrialBasicAnalysis import singleTwoObjVROptogenTrialAnalysis,\\\n",
    "        singleVROptogenTrialAnalysis\n",
    "from flyVR.flyVRAnalysis.flyVR_oneTrialBasicAnalysis import singleVRTrialAnalysis\n",
    "\n",
    "from plottingUtilities.basicPlotting import makeNestedPlotDirectory, myAxisTheme,_myAccentList\n",
    "\n",
    "from flyVR.utilities.loadObjectCoords import loadObjectCoordIdentities\n",
    "\n",
    "from trajectoryAnalysis.trajectoryDerivedParams import relationToObject\n",
    "\n",
    "from plottingUtilities.objectPreferencePlots import countvisits\n",
    "\n",
    "%matplotlib inline "
   ]
  },
  {
   "cell_type": "code",
   "execution_count": 2,
   "metadata": {
    "collapsed": true
   },
   "outputs": [],
   "source": [
    "# Choose files to analyse ..............................................................................................\n",
    "\n",
    "baseDir = '/Volumes/jayaramanlab/Hannah/Projects/FlyVR/1_Experiments/'\n",
    "\n",
    "root = Tk()\n",
    "# prevents root window from appearing\n",
    "root.withdraw()\n",
    "# choose experiment folder\n",
    "datafile = askopenfilename(initialdir=baseDir,\n",
    "                       title='Select experiment file')\n",
    "root.update()\n",
    "root.destroy()"
   ]
  },
  {
   "cell_type": "code",
   "execution_count": 3,
   "metadata": {},
   "outputs": [
    {
     "name": "stdout",
     "output_type": "stream",
     "text": [
      "Analysing the following file:\n",
      "\n",
      "singleObjectForest_visualClutter_fog120-360_WTB_m05_A_6-7d_5minMovie_180614174448.txt\n"
     ]
    }
   ],
   "source": [
    "dataDir = sep.join(datafile.split(sep)[:-1])+sep\n",
    "fileName = datafile.split(sep)[-1]\n",
    "\n",
    "analysisDir = sep.join(dataDir) + sep + 'analysis' + sep\n",
    "\n",
    "print('Analysing the following file:\\n')\n",
    "print(fileName)"
   ]
  },
  {
   "cell_type": "code",
   "execution_count": 4,
   "metadata": {
    "collapsed": true
   },
   "outputs": [],
   "source": [
    "# run basic analysis?\n",
    "rerunbasicanalysis = 'n'"
   ]
  },
  {
   "cell_type": "code",
   "execution_count": 5,
   "metadata": {
    "collapsed": true
   },
   "outputs": [],
   "source": [
    "flyID = 'm05A'\n",
    "genotype = 'WTB'\n",
    "trial = 1\n",
    "trialtype = 'farfog'"
   ]
  },
  {
   "cell_type": "markdown",
   "metadata": {},
   "source": [
    "#### Make sure to adjust single trial processing script depending on data used for the movie"
   ]
  },
  {
   "cell_type": "code",
   "execution_count": 6,
   "metadata": {
    "scrolled": true
   },
   "outputs": [
    {
     "name": "stdout",
     "output_type": "stream",
     "text": [
      "Loading saved *.npy file.\n"
     ]
    }
   ],
   "source": [
    "# Generate data frame with data\n",
    "keylist = ['headingAngle','rotVelo','time','transVelo',\n",
    "           'xPos','xPosInMiniarena','yPos','yPosInMiniarena','rEvents']\n",
    "\n",
    "keylistLong = ['flyID','trial','trialtype','reinforcement','starvation','moving'] + keylist\n",
    "fly_df = pd.DataFrame(data=np.zeros((0,len(keylistLong))), columns=keylistLong)\n",
    " \n",
    "vTransTH = 2 #mm/s\n",
    "\n",
    "# Run single trial analysis on each file in folder .....................................................\n",
    "if rerunbasicanalysis == 'y':\n",
    "    returnVal = singleVRTrialAnalysis(dataDir + fileName)\n",
    "    print('Ran analysis, now loading saved *.npy file.')\n",
    "    FODatLoad = np.load(dataDir + fileName[:-3] + 'npy')[()]\n",
    "else:\n",
    "    print('Loading saved *.npy file.')\n",
    "    FODatLoad = np.load(dataDir + fileName[:-3] + 'npy')[()]\n",
    "\n",
    "vTrans = np.copy(FODatLoad['transVelo'])\n",
    "moving = vTrans >= vTransTH\n",
    "\n",
    "FODatLoad_df = pd.DataFrame.from_dict(FODatLoad,orient='columns')\n",
    "FODatLoad_df.insert(0, 'flyID', flyID)\n",
    "FODatLoad_df.insert(1, 'trial', trial)\n",
    "FODatLoad_df.insert(2, 'trialtype', trialtype)\n",
    "#FODatLoad_df.insert(3, 'reinforcement', rZones)\n",
    "FODatLoad_df.insert(5, 'moving', moving)\n",
    "\n",
    "fly_df = fly_df.append(FODatLoad_df)\n"
   ]
  },
  {
   "cell_type": "code",
   "execution_count": 7,
   "metadata": {
    "scrolled": true
   },
   "outputs": [
    {
     "data": {
      "text/html": [
       "<div>\n",
       "<style>\n",
       "    .dataframe thead tr:only-child th {\n",
       "        text-align: right;\n",
       "    }\n",
       "\n",
       "    .dataframe thead th {\n",
       "        text-align: left;\n",
       "    }\n",
       "\n",
       "    .dataframe tbody tr th {\n",
       "        vertical-align: top;\n",
       "    }\n",
       "</style>\n",
       "<table border=\"1\" class=\"dataframe\">\n",
       "  <thead>\n",
       "    <tr style=\"text-align: right;\">\n",
       "      <th></th>\n",
       "      <th>flyID</th>\n",
       "      <th>trial</th>\n",
       "      <th>trialtype</th>\n",
       "      <th>reinforcement</th>\n",
       "      <th>starvation</th>\n",
       "      <th>moving</th>\n",
       "      <th>headingAngle</th>\n",
       "      <th>rotVelo</th>\n",
       "      <th>time</th>\n",
       "      <th>transVelo</th>\n",
       "      <th>xPos</th>\n",
       "      <th>xPosInMiniarena</th>\n",
       "      <th>yPos</th>\n",
       "      <th>yPosInMiniarena</th>\n",
       "      <th>rEvents</th>\n",
       "    </tr>\n",
       "  </thead>\n",
       "  <tbody>\n",
       "    <tr>\n",
       "      <th>0</th>\n",
       "      <td>m05A</td>\n",
       "      <td>1.0</td>\n",
       "      <td>farfog</td>\n",
       "      <td>NaN</td>\n",
       "      <td>NaN</td>\n",
       "      <td>1.0</td>\n",
       "      <td>-0.000004</td>\n",
       "      <td>0.000000</td>\n",
       "      <td>0.000000</td>\n",
       "      <td>206326.140694</td>\n",
       "      <td>6932.290</td>\n",
       "      <td>NaN</td>\n",
       "      <td>-6810.660</td>\n",
       "      <td>NaN</td>\n",
       "      <td>NaN</td>\n",
       "    </tr>\n",
       "    <tr>\n",
       "      <th>1</th>\n",
       "      <td>m05A</td>\n",
       "      <td>1.0</td>\n",
       "      <td>farfog</td>\n",
       "      <td>NaN</td>\n",
       "      <td>NaN</td>\n",
       "      <td>0.0</td>\n",
       "      <td>-0.000004</td>\n",
       "      <td>0.000000</td>\n",
       "      <td>0.050009</td>\n",
       "      <td>0.000000</td>\n",
       "      <td>-424.978</td>\n",
       "      <td>NaN</td>\n",
       "      <td>423.758</td>\n",
       "      <td>NaN</td>\n",
       "      <td>NaN</td>\n",
       "    </tr>\n",
       "    <tr>\n",
       "      <th>2</th>\n",
       "      <td>m05A</td>\n",
       "      <td>1.0</td>\n",
       "      <td>farfog</td>\n",
       "      <td>NaN</td>\n",
       "      <td>NaN</td>\n",
       "      <td>0.0</td>\n",
       "      <td>-0.000004</td>\n",
       "      <td>0.000000</td>\n",
       "      <td>0.100019</td>\n",
       "      <td>0.000000</td>\n",
       "      <td>-424.978</td>\n",
       "      <td>NaN</td>\n",
       "      <td>423.758</td>\n",
       "      <td>NaN</td>\n",
       "      <td>NaN</td>\n",
       "    </tr>\n",
       "    <tr>\n",
       "      <th>3</th>\n",
       "      <td>m05A</td>\n",
       "      <td>1.0</td>\n",
       "      <td>farfog</td>\n",
       "      <td>NaN</td>\n",
       "      <td>NaN</td>\n",
       "      <td>0.0</td>\n",
       "      <td>-0.000004</td>\n",
       "      <td>0.000000</td>\n",
       "      <td>0.150028</td>\n",
       "      <td>0.000000</td>\n",
       "      <td>-424.978</td>\n",
       "      <td>NaN</td>\n",
       "      <td>423.758</td>\n",
       "      <td>NaN</td>\n",
       "      <td>NaN</td>\n",
       "    </tr>\n",
       "    <tr>\n",
       "      <th>4</th>\n",
       "      <td>m05A</td>\n",
       "      <td>1.0</td>\n",
       "      <td>farfog</td>\n",
       "      <td>NaN</td>\n",
       "      <td>NaN</td>\n",
       "      <td>1.0</td>\n",
       "      <td>-0.000004</td>\n",
       "      <td>0.088805</td>\n",
       "      <td>0.200038</td>\n",
       "      <td>2.898076</td>\n",
       "      <td>-424.978</td>\n",
       "      <td>NaN</td>\n",
       "      <td>423.758</td>\n",
       "      <td>NaN</td>\n",
       "      <td>NaN</td>\n",
       "    </tr>\n",
       "  </tbody>\n",
       "</table>\n",
       "</div>"
      ],
      "text/plain": [
       "  flyID trial trialtype reinforcement  starvation  moving  headingAngle  \\\n",
       "0  m05A   1.0    farfog           NaN         NaN     1.0     -0.000004   \n",
       "1  m05A   1.0    farfog           NaN         NaN     0.0     -0.000004   \n",
       "2  m05A   1.0    farfog           NaN         NaN     0.0     -0.000004   \n",
       "3  m05A   1.0    farfog           NaN         NaN     0.0     -0.000004   \n",
       "4  m05A   1.0    farfog           NaN         NaN     1.0     -0.000004   \n",
       "\n",
       "    rotVelo      time      transVelo      xPos  xPosInMiniarena      yPos  \\\n",
       "0  0.000000  0.000000  206326.140694  6932.290              NaN -6810.660   \n",
       "1  0.000000  0.050009       0.000000  -424.978              NaN   423.758   \n",
       "2  0.000000  0.100019       0.000000  -424.978              NaN   423.758   \n",
       "3  0.000000  0.150028       0.000000  -424.978              NaN   423.758   \n",
       "4  0.088805  0.200038       2.898076  -424.978              NaN   423.758   \n",
       "\n",
       "   yPosInMiniarena  rEvents  \n",
       "0              NaN      NaN  \n",
       "1              NaN      NaN  \n",
       "2              NaN      NaN  \n",
       "3              NaN      NaN  \n",
       "4              NaN      NaN  "
      ]
     },
     "execution_count": 7,
     "metadata": {},
     "output_type": "execute_result"
    }
   ],
   "source": [
    "fly_df = fly_df[keylistLong]\n",
    "\n",
    "fly_df['flyID'] = fly_df['flyID'].astype('category')\n",
    "fly_df['trial'] = fly_df['trial'].astype('category')\n",
    "fly_df['trialtype'] = fly_df['trialtype'].astype('category')\n",
    "fly_df['reinforcement'] = fly_df['reinforcement'].astype('category')\n",
    "\n",
    "fly_df.head()"
   ]
  },
  {
   "cell_type": "code",
   "execution_count": 8,
   "metadata": {},
   "outputs": [
    {
     "data": {
      "text/plain": [
       "['m05A']"
      ]
     },
     "execution_count": 8,
     "metadata": {},
     "output_type": "execute_result"
    }
   ],
   "source": [
    "flyIDallarray = np.asarray(fly_df['flyID']).squeeze()\n",
    "flyIDs = sorted(list(set(flyIDallarray.tolist())))\n",
    "flyIDs"
   ]
  },
  {
   "cell_type": "markdown",
   "metadata": {},
   "source": [
    "### Settings"
   ]
  },
  {
   "cell_type": "code",
   "execution_count": 9,
   "metadata": {
    "collapsed": true
   },
   "outputs": [],
   "source": [
    "# Two object reinforcement test\n",
    "rZoneState = ['off','on','off']\n",
    "visibilityState = ['visible','visible','visible']\n",
    "groundPlane = ['texture','texture','texture']\n",
    "trialName = ['pre','train','post']\n",
    "gridSize = 60.0\n",
    "\n",
    "fps = 20\n",
    "\n",
    "coneColor = 'mediumseagreen'\n",
    "cyliColor = 'mediumorchid'\n",
    "\n",
    "\n",
    "visitRad = 15\n",
    "\n",
    "# for 2-object world\n",
    "coneCoords = [[gridSize/2, gridSize/2],\n",
    "              [3*gridSize/2, -gridSize/2]]\n",
    "cyliCoords = [[gridSize/2, -gridSize/2],\n",
    "              [3*gridSize/2, gridSize/2]]"
   ]
  },
  {
   "cell_type": "markdown",
   "metadata": {},
   "source": [
    "### Helper functions"
   ]
  },
  {
   "cell_type": "code",
   "execution_count": 10,
   "metadata": {
    "collapsed": true
   },
   "outputs": [],
   "source": [
    "import matplotlib.patches as patches\n",
    "\n",
    "def plotBodyAngle(ax, x, y, angle, markerColor, alphaVal, arrowScale):\n",
    "    newArrow = patches.FancyArrow(x, y, np.cos(angle).squeeze()*arrowScale, np.sin(angle).squeeze()*arrowScale,\n",
    "                                  width=0.25, head_width=0.25,\n",
    "                                  edgecolor=markerColor, facecolor=markerColor, alpha=alphaVal)\n",
    "    ax.add_patch(newArrow)"
   ]
  },
  {
   "cell_type": "code",
   "execution_count": null,
   "metadata": {
    "collapsed": true
   },
   "outputs": [],
   "source": []
  },
  {
   "cell_type": "markdown",
   "metadata": {},
   "source": [
    "## Load basler movie"
   ]
  },
  {
   "cell_type": "code",
   "execution_count": 11,
   "metadata": {
    "collapsed": true
   },
   "outputs": [],
   "source": [
    "vidname = 'visualClutter_WTBm05A_120-360fog_5min_40Hz.mov'"
   ]
  },
  {
   "cell_type": "code",
   "execution_count": 12,
   "metadata": {},
   "outputs": [
    {
     "name": "stdout",
     "output_type": "stream",
     "text": [
      "/Volumes/jayaramanlab/Hannah/Projects/FlyVR/1_Experiments/visualClutter/movie/fog120-360-5min/\n"
     ]
    }
   ],
   "source": [
    "movDir = sep.join(dataDir.split(sep)[:-3])+sep\n",
    "print(movDir)"
   ]
  },
  {
   "cell_type": "code",
   "execution_count": 13,
   "metadata": {
    "collapsed": true
   },
   "outputs": [],
   "source": [
    "vid = imageio.get_reader(movDir+vidname,  'ffmpeg')"
   ]
  },
  {
   "cell_type": "code",
   "execution_count": 14,
   "metadata": {
    "collapsed": true
   },
   "outputs": [],
   "source": [
    "# select frames\n",
    "trialstart = 80\n",
    "framerate = 26#38.43\n",
    "tstart = 1\n",
    "tend = 1.1\n",
    "slctframes_basler = np.linspace(int(trialstart+tstart*framerate*60),int(tend*60*framerate),int(20*60*(tend-tstart)))"
   ]
  },
  {
   "cell_type": "markdown",
   "metadata": {},
   "source": [
    "#### Select and save out single frames"
   ]
  },
  {
   "cell_type": "code",
   "execution_count": 84,
   "metadata": {},
   "outputs": [
    {
     "name": "stdout",
     "output_type": "stream",
     "text": [
      "directory already exists\n"
     ]
    }
   ],
   "source": [
    "try:\n",
    "    mkdir(movDir + 'movieMaterial/')\n",
    "except:\n",
    "    print('directory already exists')\n",
    "try:\n",
    "    mkdir(movDir + 'movieMaterial/flyframes/')\n",
    "except:\n",
    "    print('directory already exists')\n",
    "\n",
    "for num in slctframes_basler:\n",
    "    num=int(num)\n",
    "    frameName=str(num)\n",
    "    image = vid.get_data(num)\n",
    "    fig,flyplt = plt.subplots(figsize=(10,5))\n",
    "    fig.suptitle('frame {}'.format(num), fontsize=15)\n",
    "    flyplt.imshow(image)\n",
    "    flyplt.get_xaxis().set_visible(False)\n",
    "    flyplt.get_yaxis().set_visible(False)\n",
    "    \n",
    "    fig.savefig(movDir + 'movieMaterial/flyframes/'+ genotype+'_ballfly_fly'+ flyID+'_frame'+frameName.zfill(5)+'.jpeg', format='jpeg')\n",
    "    \n",
    "    plt.close(\"all\")"
   ]
  },
  {
   "cell_type": "code",
   "execution_count": null,
   "metadata": {
    "collapsed": true
   },
   "outputs": [],
   "source": []
  },
  {
   "cell_type": "markdown",
   "metadata": {},
   "source": [
    "## Make movie of trajectory (raw trajectory and trajectory in miniarena)"
   ]
  },
  {
   "cell_type": "code",
   "execution_count": 56,
   "metadata": {
    "collapsed": true
   },
   "outputs": [],
   "source": [
    "# Select frame range and set color range\n",
    "    \n",
    "# select frames\n",
    "trialstart = 0\n",
    "framerate = 20\n",
    "tstart = 1\n",
    "tend = 3\n",
    "frameRange_traj = np.linspace(int(trialstart+tstart*framerate*60),int(tend*60*framerate),int(20*60*(tend-tstart))).astype('int')\n",
    "\n",
    "# color code for time\n",
    "cNorm  = colors.Normalize(vmin=0, vmax=len(frameRange_traj))\n",
    "mycmap = colors.LinearSegmentedColormap.from_list('myAccent',_myAccentList, N=256, gamma=1.0)\n",
    "timeCMap = plt.cm.ScalarMappable(norm=cNorm,cmap=mycmap)"
   ]
  },
  {
   "cell_type": "markdown",
   "metadata": {},
   "source": [
    "### Full trace"
   ]
  },
  {
   "cell_type": "code",
   "execution_count": 57,
   "metadata": {},
   "outputs": [
    {
     "name": "stdout",
     "output_type": "stream",
     "text": [
      "directory already exists\n",
      "directory already exists\n"
     ]
    }
   ],
   "source": [
    "try:\n",
    "    mkdir(movDir + 'movieMaterial/')\n",
    "except:\n",
    "    print('directory already exists')\n",
    "try:\n",
    "    mkdir(movDir + 'movieMaterial/fulltrajFrames/')\n",
    "except:\n",
    "    print('directory already exists')"
   ]
  },
  {
   "cell_type": "code",
   "execution_count": 58,
   "metadata": {
    "collapsed": true
   },
   "outputs": [],
   "source": [
    "coordFile = 'singleObjectForest_rZones_1cm4cmCone_12cmHex_large.coords'\n",
    "\n",
    "# get object positions\n",
    "visibleObjectCoords, visibleObjectName, invisibleObjectCoords, origin = loadObjectCoordIdentities(movDir, coordFile)\n",
    "coneShape = np.asarray([bool('Cone' in objName) for objName in visibleObjectName])\n",
    "cyliShape = np.asarray([bool('Cyli' in objName) for objName in visibleObjectName])\n",
    "\n",
    "titleString = 'raw trajectory'"
   ]
  },
  {
   "cell_type": "code",
   "execution_count": 59,
   "metadata": {
    "collapsed": true
   },
   "outputs": [],
   "source": [
    "xPos = fly_df['xPos'].values[frameRange_traj]\n",
    "yPos = fly_df['yPos'].values[frameRange_traj]\n",
    "angleFly = fly_df['headingAngle'].values[frameRange_traj]\n",
    "evTrial = fly_df['rEvents'].values[frameRange_traj]\n",
    "    \n",
    "xlimval = (np.min(xPos), np.max(xPos))\n",
    "ylimval = (np.min(yPos), np.max(yPos))"
   ]
  },
  {
   "cell_type": "code",
   "execution_count": 60,
   "metadata": {},
   "outputs": [
    {
     "data": {
      "text/plain": [
       "(-15.287099999999999, 301.89743807301215)"
      ]
     },
     "execution_count": 60,
     "metadata": {},
     "output_type": "execute_result"
    },
    {
     "data": {
      "image/png": "[encoded data removed]",
      "text/plain": [
       "<matplotlib.figure.Figure at 0x1a273f4390>"
      ]
     },
     "metadata": {},
     "output_type": "display_data"
    }
   ],
   "source": [
    "# check if things look good:\n",
    "plt.plot(xPos,yPos)\n",
    "plt.scatter(visibleObjectCoords[coneShape, 0], visibleObjectCoords[coneShape, 1], 60, alpha=0.8,\n",
    "               facecolors='black', edgecolors='none', marker = '^')\n",
    "plt.scatter(visibleObjectCoords[cyliShape, 0], visibleObjectCoords[cyliShape, 1], 60, alpha=0.8,\n",
    "               facecolors='black', edgecolors='none', marker = 's')\n",
    "plt.xlim(xlimval[0]-40,xlimval[1]+35)\n",
    "plt.ylim(ylimval[0]-40,ylimval[1]+20)"
   ]
  },
  {
   "cell_type": "code",
   "execution_count": 187,
   "metadata": {
    "collapsed": true
   },
   "outputs": [],
   "source": [
    "for i, frame in enumerate(frameRange_traj):\n",
    "    frameName = str(frame)\n",
    "    \n",
    "    frameFig, framePlt = plt.subplots(1,1, figsize=(5,5))\n",
    "    \n",
    "    xpos = xPos[i]\n",
    "    ypos = yPos[i]\n",
    "    \n",
    "    #plot past trajectory\n",
    "    framePlt.scatter(xPos[0:i],yPos[0:i],s=3,c=np.arange(0,i),\n",
    "                 cmap=mycmap, vmin=0, vmax=len(frameRange_traj), alpha=0.5)\n",
    "    \n",
    "    # plot position\n",
    "    plotBodyAngle(framePlt, xpos, ypos, angleFly[i],'black', 0.6, 12)\n",
    "    framePlt.plot(xpos,ypos,'.',color=timeCMap.to_rgba(i),markersize=16)\n",
    "        \n",
    "    if(evTrial[i]>0):\n",
    "        framePlt.plot(xpos,ypos,'.',markersize=15,color='darkred')\n",
    "\n",
    "    #plot objects\n",
    "    framePlt.scatter(visibleObjectCoords[coneShape, 0], visibleObjectCoords[coneShape, 1], 60, alpha=0.8,\n",
    "               facecolors='black', edgecolors='none', marker = '^')\n",
    "    framePlt.scatter(visibleObjectCoords[cyliShape, 0], visibleObjectCoords[cyliShape, 1], 60, alpha=0.8,\n",
    "               facecolors='black', edgecolors='none', marker = 's')\n",
    "    \n",
    "    framePlt.set_xlim(xlimval[0]-40,xlimval[1]+35)\n",
    "    framePlt.set_ylim(ylimval[0]-40,ylimval[1]+20)\n",
    "    framePlt.set_aspect('equal')\n",
    "    \n",
    "    framePlt.set_title(titleString)\n",
    "    myAxisTheme(framePlt)\n",
    "\n",
    "        \n",
    "    frameFig.savefig(movDir + 'movieMaterial/fulltrajFrames/'+ genotype+'_fulltraj_fly'+\n",
    "                     flyID +'_frame'+frameName.zfill(5)+'.jpeg', format='jpeg')\n",
    "    \n",
    "    plt.close(\"all\")"
   ]
  },
  {
   "cell_type": "markdown",
   "metadata": {},
   "source": [
    "### Collapsed trace\n",
    "#### Single object forest"
   ]
  },
  {
   "cell_type": "code",
   "execution_count": 61,
   "metadata": {},
   "outputs": [
    {
     "name": "stdout",
     "output_type": "stream",
     "text": [
      "directory already exists\n",
      "directory already exists\n"
     ]
    }
   ],
   "source": [
    "try:\n",
    "    mkdir(movDir + 'movieMaterial/')\n",
    "except:\n",
    "    print('directory already exists')\n",
    "try:\n",
    "    mkdir(movDir + 'movieMaterial/trajFrames/')\n",
    "except:\n",
    "    print('directory already exists')"
   ]
  },
  {
   "cell_type": "code",
   "execution_count": 62,
   "metadata": {},
   "outputs": [
    {
     "data": {
      "text/plain": [
       "6.0"
      ]
     },
     "execution_count": 62,
     "metadata": {},
     "output_type": "execute_result"
    }
   ],
   "source": [
    "xPosMA = fly_df['xPosInMiniarena'].values[frameRange_traj]\n",
    "yPosMA = fly_df['yPosInMiniarena'].values[frameRange_traj]\n",
    "angleFly = fly_df['headingAngle'].values[frameRange_traj]\n",
    "evTrial = fly_df['rEvents'].values[frameRange_traj]\n",
    "\n",
    "dist2LM = np.hypot(xPosMA, yPosMA)\n",
    "\n",
    "# count visits\n",
    "entries,exits,visitT,entryTime,exitTime = countvisits(dist2LM,visitRad)\n",
    "sum(entries)"
   ]
  },
  {
   "cell_type": "code",
   "execution_count": 63,
   "metadata": {},
   "outputs": [
    {
     "data": {
      "text/plain": [
       "<matplotlib.collections.PathCollection at 0x1a2739b8d0>"
      ]
     },
     "execution_count": 63,
     "metadata": {},
     "output_type": "execute_result"
    },
    {
     "data": {
      "image/png": "[encoded data removed]",
      "text/plain": [
       "<matplotlib.figure.Figure at 0x1a2703b790>"
      ]
     },
     "metadata": {},
     "output_type": "display_data"
    }
   ],
   "source": [
    "# check if things look good:\n",
    "plt.scatter(xPosMA,yPosMA,s=1,c=dist2LM)"
   ]
  },
  {
   "cell_type": "code",
   "execution_count": 214,
   "metadata": {
    "collapsed": true
   },
   "outputs": [],
   "source": [
    "for i, frame in enumerate(frameRange_traj):\n",
    "    frameName = str(frame)\n",
    "    \n",
    "    visitFig, visitPlt = plt.subplots(1,1, figsize=(5,5))\n",
    "    \n",
    "    xpos = xPosMA[i]\n",
    "    ypos = yPosMA[i]\n",
    "    \n",
    "    #plot past trajectory\n",
    "    visitPlt.scatter(xPosMA[0:i],yPosMA[0:i],s=3,c=np.arange(0,i),\n",
    "                 cmap=mycmap, vmin=0, vmax=len(frameRange_traj), alpha=0.5)\n",
    "    \n",
    "    # plot position\n",
    "    plotBodyAngle(visitPlt, xpos, ypos, angleFly[i],'black', 0.6, 6)\n",
    "    visitPlt.plot(xpos,ypos,'.',color=timeCMap.to_rgba(i),markersize=16)\n",
    "        \n",
    "    if(evTrial[i]>0):\n",
    "        visitPlt.plot(xpos,ypos,'.',markersize=15,color='darkred')\n",
    "\n",
    "    if(entries[i]>0):\n",
    "        visitPlt.plot(xpos,ypos,'o',markersize=17, color=coneColor)\n",
    "\n",
    "    visitPlt.plot(0, 0, marker='^', markersize=16, alpha=0.8, color='black')\n",
    "\n",
    "    visitPlt.set_xlim(-65,65)\n",
    "    visitPlt.set_ylim(-65,65)\n",
    "    visitPlt.set_aspect('equal')\n",
    "    \n",
    "    visitPlt.set_title(trialtype)\n",
    "    myAxisTheme(visitPlt)\n",
    "\n",
    "        \n",
    "    visitFig.savefig(movDir + 'movieMaterial/trajFrames/'+ genotype +'_collapsedTrace_fly'+\n",
    "                     flyID +'_frame'+frameName.zfill(5)+'.jpeg', format='jpeg')\n",
    "    \n",
    "    plt.close(\"all\")"
   ]
  },
  {
   "cell_type": "code",
   "execution_count": null,
   "metadata": {
    "collapsed": true
   },
   "outputs": [],
   "source": []
  },
  {
   "cell_type": "markdown",
   "metadata": {},
   "source": [
    "#### 2-object forest"
   ]
  },
  {
   "cell_type": "code",
   "execution_count": 92,
   "metadata": {
    "scrolled": true
   },
   "outputs": [
    {
     "ename": "NameError",
     "evalue": "name 'xPosTrial' is not defined",
     "output_type": "error",
     "traceback": [
      "\u001b[0;31m---------------------------------------------------------------------------\u001b[0m",
      "\u001b[0;31mNameError\u001b[0m                                 Traceback (most recent call last)",
      "\u001b[0;32m<ipython-input-92-c40cce0c42b3>\u001b[0m in \u001b[0;36m<module>\u001b[0;34m()\u001b[0m\n\u001b[1;32m      5\u001b[0m     \u001b[0mvisitPlt\u001b[0m \u001b[0;34m=\u001b[0m \u001b[0mvisitFig\u001b[0m\u001b[0;34m.\u001b[0m\u001b[0madd_subplot\u001b[0m\u001b[0;34m(\u001b[0m\u001b[0;36m111\u001b[0m\u001b[0;34m)\u001b[0m\u001b[0;34m\u001b[0m\u001b[0m\n\u001b[1;32m      6\u001b[0m \u001b[0;34m\u001b[0m\u001b[0m\n\u001b[0;32m----> 7\u001b[0;31m     \u001b[0mxpos\u001b[0m \u001b[0;34m=\u001b[0m \u001b[0mxPosTrial\u001b[0m\u001b[0;34m[\u001b[0m\u001b[0mframe\u001b[0m\u001b[0;34m]\u001b[0m\u001b[0;34m\u001b[0m\u001b[0m\n\u001b[0m\u001b[1;32m      8\u001b[0m     \u001b[0mypos\u001b[0m \u001b[0;34m=\u001b[0m \u001b[0myPosTrial\u001b[0m\u001b[0;34m[\u001b[0m\u001b[0mframe\u001b[0m\u001b[0;34m]\u001b[0m\u001b[0;34m\u001b[0m\u001b[0m\n\u001b[1;32m      9\u001b[0m \u001b[0;34m\u001b[0m\u001b[0m\n",
      "\u001b[0;31mNameError\u001b[0m: name 'xPosTrial' is not defined"
     ]
    },
    {
     "data": {
      "image/png": "[encoded data removed]",
      "text/plain": [
       "<matplotlib.figure.Figure at 0x1a285d6690>"
      ]
     },
     "metadata": {},
     "output_type": "display_data"
    }
   ],
   "source": [
    "for frame in frameRange:\n",
    "    frameName = str(frame)\n",
    "    \n",
    "    visitFig = plt.figure(figsize=(5,5))\n",
    "    visitPlt = visitFig.add_subplot(111)\n",
    "    \n",
    "    xpos = xPosTrial[frame]\n",
    "    ypos = yPosTrial[frame]\n",
    "    \n",
    "    # compute distance to each landmark\n",
    "    dist2cone1 = np.hypot((xPosTrial-coneCoords[0][0]),(yPosTrial-coneCoords[0][1]))\n",
    "    dist2cone2 = np.hypot((xPosTrial-coneCoords[1][0]),(yPosTrial-coneCoords[1][1]))\n",
    "    dist2cyli1 = np.hypot((xPosTrial-cyliCoords[0][0]),(yPosTrial-cyliCoords[0][1]))\n",
    "    dist2cyli2 = np.hypot((xPosTrial-cyliCoords[1][0]),(yPosTrial-cyliCoords[1][1]))\n",
    "\n",
    "    # compute distance to closest landmark\n",
    "    dist2closestCone = np.minimum(dist2cone1,dist2cone2)\n",
    "    dist2closestCyli = np.minimum(dist2cyli1,dist2cyli2)\n",
    "\n",
    "    entriesCone,exitsCone,visitTCone,entryTimeCone,exitTimeCone = countvisits(dist2closestCone,visitRad)\n",
    "    entriesCyli,exitsCyli,visitTCyli,entryTimeCyli,exitTimeCyli = countvisits(dist2closestCyli,visitRad)\n",
    "    \n",
    "    #plot past trajectory\n",
    "    visitPlt.scatter(xPosTrial[frameRange[0]:frame],yPosTrial[frameRange[0]:frame],s=3,c=np.arange(frameRange[0],frame),\n",
    "                 cmap=mycmap, vmin=frameRange[0], vmax=frameRange[-1], alpha=0.5)\n",
    "    \n",
    "    # plot position\n",
    "    plotBodyAngle(visitPlt, xpos, ypos, angleFly[frame],'black', 0.6, 6)\n",
    "    visitPlt.plot(xpos,ypos,'.',color=timeCMap.to_rgba(frame),markersize=16)\n",
    "\n",
    "    if(entriesCone[frame]>0):\n",
    "        visitPlt.plot(xpos,ypos,'o',markersize=20, color=coneColor)\n",
    "    \n",
    "    if(entriesCyli[frame]>0):\n",
    "        visitPlt.plot(xpos,ypos,'o',markersize=20, color=cyliColor)\n",
    "        \n",
    "    if(evTrial[frame]>0):\n",
    "        visitPlt.plot(xpos,ypos,'.',markersize=15,color='darkred')\n",
    "\n",
    "    visitPlt.plot(cyliCoords[0][0], cyliCoords[0][1], marker='s', markersize=11, alpha=0.8, color='black')\n",
    "    visitPlt.plot(coneCoords[0][0], coneCoords[0][1], marker='^', markersize=14, alpha=0.8, color='black')\n",
    "    visitPlt.plot(coneCoords[1][0], coneCoords[1][1], marker='^', markersize=14, alpha=0.8, color='black')\n",
    "    visitPlt.plot(cyliCoords[1][0], cyliCoords[1][1], marker='s', markersize=11, alpha=0.8, color='black')\n",
    "\n",
    "    visitPlt.set_xlim(0,120)\n",
    "    visitPlt.set_ylim(-60,60)\n",
    "    visitPlt.set_aspect('equal')\n",
    "    \n",
    "    visitPlt.set_title(trialtype)\n",
    "    myAxisTheme(visitPlt)\n",
    "\n",
    "        \n",
    "    visitFig.savefig(analysisDir + 'movieMaterial/fulltrajFrames/'+ genotype +'_collapsedTrace_fly'+\n",
    "                     flyID +'_frame'+frameName.zfill(5)+'.jpeg', format='jpeg')\n",
    "    \n",
    "    plt.close(\"all\")"
   ]
  },
  {
   "cell_type": "markdown",
   "metadata": {},
   "source": [
    "## Make combined movie: trajectory + fly + VR"
   ]
  },
  {
   "cell_type": "code",
   "execution_count": 160,
   "metadata": {},
   "outputs": [
    {
     "name": "stdout",
     "output_type": "stream",
     "text": [
      "directory already exists\n",
      "directory already exists\n"
     ]
    }
   ],
   "source": [
    "#vidname = 'visualClutter_WTBm05A_120-360fog_5min_40Hz.mov'\n",
    "\n",
    "try:\n",
    "    mkdir(movDir + 'movieMaterial/')\n",
    "except:\n",
    "    print('directory already exists')\n",
    "try:\n",
    "    mkdir(movDir + 'movieMaterial/traj-fly-VR/')\n",
    "except:\n",
    "    print('directory already exists')\n",
    "    \n",
    "tstart = 1\n",
    "tend = 3\n",
    "\n",
    "framerateCombi = 20\n",
    "\n",
    "frameRange = range(0,(tend-tstart)*framerateCombi*60+1)"
   ]
  },
  {
   "cell_type": "markdown",
   "metadata": {},
   "source": [
    "#### single object forest"
   ]
  },
  {
   "cell_type": "code",
   "execution_count": 161,
   "metadata": {},
   "outputs": [
    {
     "data": {
      "text/plain": [
       "<matplotlib.image.AxesImage at 0x1cafa31050>"
      ]
     },
     "execution_count": 161,
     "metadata": {},
     "output_type": "execute_result"
    },
    {
     "data": {
      "image/png": "[encoded data removed]",
      "text/plain": [
       "<matplotlib.figure.Figure at 0x1caf5893d0>"
      ]
     },
     "metadata": {},
     "output_type": "display_data"
    }
   ],
   "source": [
    "# (1) Fly video\n",
    "vid = imageio.get_reader(movDir+vidname,  'ffmpeg')\n",
    "# select frames\n",
    "trialstart = 75\n",
    "framerateBasler = 26.5\n",
    "\n",
    "slctframes_basler = np.linspace(int(trialstart+tstart*framerateBasler*60),\\\n",
    "                                int(tend*60*framerateBasler),1+int(framerateCombi*60*(tend-tstart)))\n",
    "#test\n",
    "image = vid.get_data(trialstart)\n",
    "plt.imshow(image)"
   ]
  },
  {
   "cell_type": "code",
   "execution_count": 167,
   "metadata": {},
   "outputs": [
    {
     "data": {
      "text/plain": [
       "0"
      ]
     },
     "execution_count": 167,
     "metadata": {},
     "output_type": "execute_result"
    }
   ],
   "source": [
    "int((tstart-1)*60*framerateVR)"
   ]
  },
  {
   "cell_type": "code",
   "execution_count": 162,
   "metadata": {},
   "outputs": [
    {
     "data": {
      "text/plain": [
       "<matplotlib.image.AxesImage at 0x1cafc37ad0>"
      ]
     },
     "execution_count": 162,
     "metadata": {},
     "output_type": "execute_result"
    },
    {
     "data": {
      "image/png": "[encoded data removed]",
      "text/plain": [
       "<matplotlib.figure.Figure at 0x1caed65e90>"
      ]
     },
     "metadata": {},
     "output_type": "display_data"
    }
   ],
   "source": [
    "# (2) VR video\n",
    "vrviddir = 'singleObjectForest_visualClutter_fog120-360_WTB_m05_A_6-7d_5minMovie_180614174448_movie'\n",
    "vrvidname = 'flyvr_movie_120deg_30Hz.mp4'\n",
    "\n",
    "# movie made from min 1 to 3\n",
    "framerateVR = 30.0\n",
    "slctframes_vr = np.linspace(int((tstart-1)*60*framerateVR),int((tend-1)*60*framerateVR),1+int(framerateCombi*60*(tend-tstart)))\n",
    "#slctframes_vr = np.linspace(int(tstart*60*framerateVR),int(tend*60*framerateVR),int(framerateCombi*60*(tend-tstart)))\n",
    "\n",
    "# test\n",
    "vidVR = imageio.get_reader(movDir+vrviddir+sep+vrvidname,  'ffmpeg')\n",
    "image = vidVR.get_data(0)\n",
    "plt.imshow(image)"
   ]
  },
  {
   "cell_type": "code",
   "execution_count": 163,
   "metadata": {},
   "outputs": [
    {
     "name": "stdout",
     "output_type": "stream",
     "text": [
      "2401\n",
      "4770.0\n",
      "2401\n",
      "3600.0\n",
      "2401\n",
      "2400\n"
     ]
    }
   ],
   "source": [
    "print(len(slctframes_basler))\n",
    "print(slctframes_basler[-1])\n",
    "\n",
    "print(len(slctframes_vr))\n",
    "print(slctframes_vr[-1])\n",
    "\n",
    "print(len(frameRange))\n",
    "print(frameRange[-1])"
   ]
  },
  {
   "cell_type": "code",
   "execution_count": 164,
   "metadata": {},
   "outputs": [],
   "source": [
    "# (3) Settings for trajectory plot\n",
    "framerateTraj = 20\n",
    "slctframes_traj = np.linspace(int(tstart*framerateTraj*60),\n",
    "                              int(tend*60*framerateTraj),1+int(framerateCombi*60*(tend-tstart)))\n",
    "\n",
    "slctframes_traj_ind = np.round(slctframes_traj).astype(int)\n",
    "\n",
    "# color code for time\n",
    "cNorm  = colors.Normalize(vmin=0, vmax=len(frameRange))\n",
    "mycmap = colors.LinearSegmentedColormap.from_list('myAccent',_myAccentList, N=256, gamma=1.0)\n",
    "timeCMap = plt.cm.ScalarMappable(norm=cNorm,cmap=mycmap)\n",
    "\n",
    "# extract data\n",
    "xPos = fly_df['xPos'].values[slctframes_traj_ind]\n",
    "yPos = fly_df['yPos'].values[slctframes_traj_ind]\n",
    "angleFly = fly_df['headingAngle'].values[slctframes_traj_ind]\n",
    "evTrial = fly_df['rEvents'].values[slctframes_traj_ind]\n",
    "\n",
    "xlimval = (np.min(xPos), np.max(xPos))\n",
    "ylimval = (np.min(yPos), np.max(yPos))\n",
    "\n",
    "xPosMA = fly_df['xPosInMiniarena'].values[slctframes_traj_ind]\n",
    "yPosMA = fly_df['yPosInMiniarena'].values[slctframes_traj_ind]\n",
    "\n",
    "dist2LM = np.hypot(xPosMA, yPosMA)\n",
    "\n",
    "# count visits\n",
    "entries,exits,visitT,entryTime,exitTime = countvisits(dist2LM,visitRad)"
   ]
  },
  {
   "cell_type": "code",
   "execution_count": 165,
   "metadata": {},
   "outputs": [
    {
     "data": {
      "image/png": "[encoded data removed]",
      "text/plain": [
       "<matplotlib.figure.Figure at 0x1caf96e790>"
      ]
     },
     "metadata": {},
     "output_type": "display_data"
    }
   ],
   "source": [
    "plt.plot(frameRange,slctframes_basler)\n",
    "plt.plot(frameRange,slctframes_vr)\n",
    "plt.plot(frameRange,slctframes_traj)\n",
    "plt.legend(['basler','VR scene','trajectory']);"
   ]
  },
  {
   "cell_type": "code",
   "execution_count": 166,
   "metadata": {},
   "outputs": [],
   "source": [
    "# (4) Plot frames                       \n",
    "for i, frame in enumerate(frameRange):\n",
    "    frameName = str(i)\n",
    "    \n",
    "    frameFig = plt.figure(figsize=(14,10))\n",
    "    gs = gridspec.GridSpec(2,2, width_ratios=[1,1.5])\n",
    "    \n",
    "    \n",
    "    # (A) raw trace\n",
    "    xpos = xPos[i]\n",
    "    ypos = yPos[i]\n",
    "    \n",
    "    #plot past trajectory\n",
    "    framePlt = frameFig.add_subplot(gs[0,0])\n",
    "    framePlt.scatter(xPos[0:i],yPos[0:i],s=3,c=np.arange(0,i),cmap=mycmap, vmin=0, vmax=len(frameRange), alpha=0.5)\n",
    "    \n",
    "    # plot position\n",
    "    plotBodyAngle(framePlt, xpos, ypos, angleFly[i],'black', 0.6, 10)\n",
    "    framePlt.plot(xpos,ypos,'.',color=timeCMap.to_rgba(i),markersize=16)\n",
    "        \n",
    "    if(evTrial[i]>0):\n",
    "        framePlt.plot(xpos,ypos,'.',markersize=15,color='darkred')\n",
    "\n",
    "    #plot objects\n",
    "    framePlt.scatter(visibleObjectCoords[coneShape, 0], visibleObjectCoords[coneShape, 1], 60, alpha=0.8,\n",
    "               facecolors='black', edgecolors='none', marker = '^')\n",
    "    framePlt.scatter(visibleObjectCoords[cyliShape, 0], visibleObjectCoords[cyliShape, 1], 60, alpha=0.8,\n",
    "               facecolors='black', edgecolors='none', marker = 's')\n",
    "    \n",
    "    framePlt.set_xlim(xlimval[0]-45,xlimval[1]+45)\n",
    "    framePlt.set_ylim(ylimval[0]-70,ylimval[1]+70)\n",
    "    framePlt.set_aspect('equal')\n",
    "    \n",
    "    framePlt.plot([xlimval[0]-40, xlimval[0]+10],[ylimval[0]-50, ylimval[0]-50], color='k', linewidth=2)\n",
    "    framePlt.text(xlimval[0]-35, ylimval[0]-47, '50 mm', fontsize=14)\n",
    "    \n",
    "    framePlt.set_title('Raw trajectory',fontsize=14)\n",
    "    framePlt.axis('off')\n",
    "    \n",
    "    \n",
    "    # (B) collapsed trace\n",
    "    #plot past trajectory\n",
    "    framePlt = frameFig.add_subplot(gs[1,0])\n",
    "    framePlt.scatter(xPosMA[0:i],yPosMA[0:i],s=3,c=np.arange(0,i), cmap=mycmap, vmin=0, \\\n",
    "                     vmax=len(frameRange), alpha=0.5)\n",
    "    \n",
    "    # plot position\n",
    "    plotBodyAngle(framePlt, xPosMA[i],yPosMA[i], angleFly[i],'black', 0.6, 6)\n",
    "    framePlt.plot(xPosMA[i],yPosMA[i],'.',color=timeCMap.to_rgba(i),markersize=16)\n",
    "\n",
    "    if(entries[i]>0):\n",
    "        framePlt.plot(xPosMA[i],yPosMA[i],'o',markersize=20, color=coneColor)\n",
    "        \n",
    "    if(evTrial[i]>0):\n",
    "        framePlt.plot(xPosMA[i],yPosMA[i],'.',markersize=15,color='darkred')\n",
    "\n",
    "    framePlt.plot(0,0, marker='^', markersize=14, alpha=0.6, color='black')\n",
    "\n",
    "    framePlt.set_xlim(-65,65)\n",
    "    framePlt.set_ylim(-65,65)\n",
    "    framePlt.set_aspect('equal')\n",
    "    \n",
    "    framePlt.set_title('Collapsed trajectory', fontsize=14)\n",
    "    framePlt.axis('off')\n",
    "    \n",
    "    # (C) plot frame from fly video\n",
    "    framePlt = frameFig.add_subplot(gs[1,1])\n",
    "    num=int(np.round(slctframes_basler[i]))\n",
    "    image = vid.get_data(num)\n",
    "    framePlt.set_title(' Fly video', fontsize=14)\n",
    "    framePlt.imshow(image)\n",
    "    framePlt.invert_xaxis()\n",
    "    framePlt.get_xaxis().set_visible(False)\n",
    "    framePlt.get_yaxis().set_visible(False)\n",
    "    \n",
    "    # (D) plot frame from VR video\n",
    "    framePlt = frameFig.add_subplot(gs[0,1])\n",
    "    num=int(np.round(slctframes_vr[i]))\n",
    "    vidVR = imageio.get_reader(movDir+vrviddir+sep+vrvidname,  'ffmpeg')\n",
    "    image = vidVR.get_data(num)\n",
    "    framePlt.set_title('Rendered VR scene', fontsize=14)\n",
    "    framePlt.imshow(image)\n",
    "    framePlt.get_xaxis().set_visible(False)\n",
    "    framePlt.get_yaxis().set_visible(False)\n",
    "    \n",
    "    frameFig.tight_layout()\n",
    "    frameFig.savefig(movDir + 'movieMaterial/traj-fly-VR/'+ genotype\n",
    "                       +'_all_fly'+ flyID +'_frame'+frameName.zfill(5)+'.jpeg', format='jpeg')\n",
    "    \n",
    "    plt.close(\"all\")\n",
    "\n"
   ]
  },
  {
   "cell_type": "code",
   "execution_count": null,
   "metadata": {
    "collapsed": true
   },
   "outputs": [],
   "source": []
  },
  {
   "cell_type": "markdown",
   "metadata": {},
   "source": [
    "#### Two-object forest"
   ]
  },
  {
   "cell_type": "code",
   "execution_count": 162,
   "metadata": {},
   "outputs": [
    {
     "name": "stdout",
     "output_type": "stream",
     "text": [
      "directory already exists\n",
      "directory already exists\n"
     ]
    }
   ],
   "source": [
    "# select frames for fly video\n",
    "vid = imageio.get_reader(movDir+vidname,  'ffmpeg')\n",
    "trialstart = 98\n",
    "framerate = 45.5#38.43\n",
    "slctframes = np.linspace(int(trialstart+tstart*framerate*60),int(tend*60*framerate),int(20*60*(tend-tstart)))\n",
    "\n",
    "# select frames for VR video\n",
    "frameratevr = 46\n",
    "vrslctframes = np.linspace(int(tstart*60*frameratevr),int(tend*60*frameratevr),int(20*60*(tend-tstart)))\n",
    "\n",
    "# color code for time\n",
    "cNorm  = colors.Normalize(vmin=0, vmax=len(frameRange))\n",
    "mycmap = colors.LinearSegmentedColormap.from_list('myAccent',_myAccentList, N=256, gamma=1.0)\n",
    "timeCMap = plt.cm.ScalarMappable(norm=cNorm,cmap=mycmap)\n",
    "\n",
    "xlimval = (np.min(xPos[frameRange]), np.max(xPos[frameRange]))\n",
    "ylimval = (np.min(yPos[frameRange]), np.max(yPos[frameRange]))\n",
    "                                  \n",
    "for frame in frameRange:#int(len(timeTrial)*0.1)):\n",
    "    frameName = str(frame)\n",
    "    \n",
    "    frameFig = plt.figure(figsize=(14,10))\n",
    "    gs = gridspec.GridSpec(2,2, width_ratios=[1,1.5])\n",
    "    \n",
    "    xpos = xPos[frame]\n",
    "    ypos = yPos[frame]\n",
    "    \n",
    "    #plot past trajectory\n",
    "    framePlt = frameFig.add_subplot(gs[0,0])\n",
    "    framePlt.scatter(xPos[frameRange[0]:frame],yPos[frameRange[0]:frame],s=3,c=np.arange(frameRange[0],frame),\n",
    "                 cmap=mycmap, vmin=frameRange[0], vmax=frameRange[-1], alpha=0.5)\n",
    "    \n",
    "    # plot position\n",
    "    plotBodyAngle(framePlt, xpos, ypos, angleFly[frame],'black', 0.6, 10)\n",
    "    framePlt.plot(xpos,ypos,'.',color=timeCMap.to_rgba(frame),markersize=16)\n",
    "        \n",
    "    if(evTrial[frame]>0):\n",
    "        framePlt.plot(xpos,ypos,'.',markersize=15,color='darkred')\n",
    "\n",
    "    #plot objects\n",
    "    framePlt.scatter(visibleObjectCoords[coneShape, 0], visibleObjectCoords[coneShape, 1], 70, alpha=0.6,\n",
    "               facecolors='black', edgecolors='none', marker = '^')\n",
    "    framePlt.scatter(visibleObjectCoords[cyliShape, 0], visibleObjectCoords[cyliShape, 1], 70, alpha=0.6,\n",
    "               facecolors='black', edgecolors='none', marker = 's')\n",
    "    \n",
    "    framePlt.set_xlim(xlimval[0]-45,xlimval[1]+45)\n",
    "    framePlt.set_ylim(ylimval[0]-70,ylimval[1]+70)\n",
    "    framePlt.set_aspect('equal')\n",
    "    \n",
    "    framePlt.plot([xlimval[0]-40, xlimval[0]+10],[ylimval[0]-50, ylimval[0]-50], color='k', linewidth=2)\n",
    "    framePlt.text(xlimval[0]-35, ylimval[0]-47, '50 mm', fontsize=14)\n",
    "    \n",
    "    framePlt.set_title('Raw trajectory',fontsize=14)\n",
    "    framePlt.axis('off')\n",
    "    \n",
    "    xpos = xPosTrial[frame]\n",
    "    ypos = yPosTrial[frame]\n",
    "    \n",
    "    # compute distance to each landmark\n",
    "    dist2cone1 = np.hypot((xPosTrial-coneCoords[0][0]),(yPosTrial-coneCoords[0][1]))\n",
    "    dist2cone2 = np.hypot((xPosTrial-coneCoords[1][0]),(yPosTrial-coneCoords[1][1]))\n",
    "    dist2cyli1 = np.hypot((xPosTrial-cyliCoords[0][0]),(yPosTrial-cyliCoords[0][1]))\n",
    "    dist2cyli2 = np.hypot((xPosTrial-cyliCoords[1][0]),(yPosTrial-cyliCoords[1][1]))\n",
    "\n",
    "    # compute distance to closest landmark\n",
    "    dist2closestCone = np.minimum(dist2cone1,dist2cone2)\n",
    "    dist2closestCyli = np.minimum(dist2cyli1,dist2cyli2)\n",
    "\n",
    "    entriesCone,exitsCone,visitTCone,entryTimeCone,exitTimeCone = countvisits(dist2closestCone,visitRad)\n",
    "    entriesCyli,exitsCyli,visitTCyli,entryTimeCyli,exitTimeCyli = countvisits(dist2closestCyli,visitRad)\n",
    "    \n",
    "    #plot past trajectory\n",
    "    framePlt = frameFig.add_subplot(gs[1,0])\n",
    "    framePlt.scatter(xPosTrial[frameRange[0]:frame],yPosTrial[frameRange[0]:frame],s=3,c=np.arange(frameRange[0],frame),\n",
    "                 cmap=mycmap, vmin=frameRange[0], vmax=frameRange[-1], alpha=0.5)\n",
    "    \n",
    "    # plot position\n",
    "    plotBodyAngle(framePlt, xpos, ypos, angleFly[frame],'black', 0.6, 6)\n",
    "    framePlt.plot(xpos,ypos,'.',color=timeCMap.to_rgba(frame),markersize=16)\n",
    "\n",
    "    if(entriesCone[frame]>0):\n",
    "        framePlt.plot(xpos,ypos,'o',markersize=20, color=coneColor)\n",
    "    \n",
    "    if(entriesCyli[frame]>0):\n",
    "        framePlt.plot(xpos,ypos,'o',markersize=20, color=cyliColor)\n",
    "        \n",
    "    if(evTrial[frame]>0):\n",
    "        framePlt.plot(xpos,ypos,'.',markersize=15,color='darkred')\n",
    "\n",
    "    framePlt.plot(cyliCoords[0][0], cyliCoords[0][1], marker='s', markersize=11, alpha=0.6, color='black')\n",
    "    framePlt.plot(coneCoords[0][0], coneCoords[0][1], marker='^', markersize=14, alpha=0.6, color='black')\n",
    "    framePlt.plot(coneCoords[1][0], coneCoords[1][1], marker='^', markersize=14, alpha=0.6, color='black')\n",
    "    framePlt.plot(cyliCoords[1][0], cyliCoords[1][1], marker='s', markersize=11, alpha=0.6, color='black')\n",
    "\n",
    "    framePlt.set_xlim(0,120)\n",
    "    framePlt.set_ylim(-60,60)\n",
    "    framePlt.set_aspect('equal')\n",
    "    \n",
    "    framePlt.set_title('Collapsed trajectory', fontsize=14)\n",
    "    framePlt.get_xaxis().set_visible(False)\n",
    "    framePlt.get_yaxis().set_visible(False)\n",
    "    \n",
    "    # plot frame from video\n",
    "    framePlt = frameFig.add_subplot(gs[1,1])\n",
    "    num=int(np.round(slctframes[frame]))\n",
    "    image = vid.get_data(num)\n",
    "    framePlt.set_title(' Fly video', fontsize=14)#: frame {}'.format(num), fontsize=14)\n",
    "    framePlt.imshow(image)\n",
    "    framePlt.invert_xaxis()\n",
    "    framePlt.get_xaxis().set_visible(False)\n",
    "    framePlt.get_yaxis().set_visible(False)\n",
    "    \n",
    "    # plot frame from video\n",
    "    framePlt = frameFig.add_subplot(gs[0,1])\n",
    "    num=int(np.round(vrslctframes[frame]))+1\n",
    "    image = imageio.imread(movDir+vrFramesDir+sep+vrFramesStem+'_{}.jpg'.format(str(num).zfill(6)))\n",
    "    framePlt.set_title('Rendered VR scene', fontsize=14)\n",
    "    framePlt.imshow(image)\n",
    "    framePlt.get_xaxis().set_visible(False)\n",
    "    framePlt.get_yaxis().set_visible(False)\n",
    "    \n",
    "    frameFig.tight_layout()\n",
    "    frameFig.savefig(analysisDir + 'movieMaterial_all/frames2/'+ genotype +'_'+flyIDs[0][0]\n",
    "                       +'_all_fly'+ flyIDs[fly] +'_frame'+frameName.zfill(5)+'.jpeg', format='jpeg')\n",
    "    \n",
    "    plt.close(\"all\")\n"
   ]
  },
  {
   "cell_type": "code",
   "execution_count": null,
   "metadata": {
    "collapsed": true
   },
   "outputs": [],
   "source": []
  },
  {
   "cell_type": "code",
   "execution_count": null,
   "metadata": {
    "collapsed": true
   },
   "outputs": [],
   "source": []
  },
  {
   "cell_type": "markdown",
   "metadata": {},
   "source": [
    "## Make combined movie: trajectory + fly"
   ]
  },
  {
   "cell_type": "code",
   "execution_count": 118,
   "metadata": {},
   "outputs": [
    {
     "name": "stdout",
     "output_type": "stream",
     "text": [
      "directory already exists\n",
      "directory already exists\n"
     ]
    }
   ],
   "source": [
    "try:\n",
    "    mkdir(analysisDir + 'movieMaterial_fly-trace/')\n",
    "except:\n",
    "    print('directory already exists')\n",
    "try:\n",
    "    mkdir(analysisDir + 'movieMaterial_fly-trace/frames/')\n",
    "except:\n",
    "    print('directory already exists')\n",
    "\n",
    "tstart = 0\n",
    "tend =0.5\n",
    "\n",
    "frameRange = range(tstart*20*60,int(tend*20*60))\n",
    "\n",
    "# select frames for fly video\n",
    "trialstart = 96\n",
    "framerate = 46#38.43\n",
    "slctframes = np.linspace(int(trialstart+tstart*framerate*60),int(tend*60*framerate),int(20*60*(tend-tstart)))\n",
    "\n",
    "vid = imageio.get_reader(movDir+vidname,  'ffmpeg')\n",
    "\n",
    "# color code for time\n",
    "cNorm  = colors.Normalize(vmin=0, vmax=len(frameRange))\n",
    "mycmap = colors.LinearSegmentedColormap.from_list('myAccent',_myAccentList, N=256, gamma=1.0)\n",
    "timeCMap = plt.cm.ScalarMappable(norm=cNorm,cmap=mycmap)\n",
    "\n",
    "xlimval = (np.min(xPos[frameRange]), np.max(xPos[frameRange]))\n",
    "ylimval = (np.min(yPos[frameRange]), np.max(yPos[frameRange]))\n",
    "\n",
    "for frame in frameRange:#int(len(timeTrial)*0.1)):\n",
    "    frameName = str(frame)\n",
    "    \n",
    "    frameFig, framePlt = plt.subplots(1,3, figsize=(15,5), gridspec_kw={'width_ratios':[1.1,1,1.5]})\n",
    "    \n",
    "    xpos = xPos[frame]\n",
    "    ypos = yPos[frame]\n",
    "    \n",
    "    #plot past trajectory\n",
    "    framePlt[0].scatter(xPos[frameRange[0]:frame],yPos[frameRange[0]:frame],s=3,c=np.arange(frameRange[0],frame),\n",
    "                 cmap=mycmap, vmin=frameRange[0], vmax=frameRange[-1], alpha=0.5)\n",
    "    \n",
    "    # plot position\n",
    "    plotBodyAngle(framePlt[0], xpos, ypos, angleFly[frame],'black', 0.6, 10)\n",
    "    framePlt[0].plot(xpos,ypos,'.',color=timeCMap.to_rgba(frame),markersize=16)\n",
    "        \n",
    "    if(evTrial[frame]>0):\n",
    "        framePlt[0].plot(xpos,ypos,'.',markersize=15,color='darkred')\n",
    "\n",
    "    #plot objects\n",
    "    framePlt[0].scatter(visibleObjectCoords[coneShape, 0], visibleObjectCoords[coneShape, 1], 70, alpha=0.6,\n",
    "               facecolors='black', edgecolors='none', marker = '^')\n",
    "    framePlt[0].scatter(visibleObjectCoords[cyliShape, 0], visibleObjectCoords[cyliShape, 1], 70, alpha=0.6,\n",
    "               facecolors='black', edgecolors='none', marker = 's')\n",
    "    \n",
    "    framePlt[0].set_xlim(xlimval[0]-45,xlimval[1]+45)\n",
    "    framePlt[0].set_ylim(ylimval[0]-70,ylimval[1]+70)\n",
    "    framePlt[0].set_aspect('equal')\n",
    "    \n",
    "    framePlt[0].plot([xlimval[0]-40, xlimval[0]+10],[ylimval[0]-50, ylimval[0]-50], color='k', linewidth=2)\n",
    "    framePlt[0].text(xlimval[0]-35, ylimval[0]-47, '50 mm', fontsize=14)\n",
    "    \n",
    "    framePlt[0].set_title('Raw trajectory',fontsize=14)\n",
    "    framePlt[0].axis('off')\n",
    "    \n",
    "    xpos = xPosTrial[frame]\n",
    "    ypos = yPosTrial[frame]\n",
    "    \n",
    "    # compute distance to each landmark\n",
    "    dist2cone1 = np.hypot((xPosTrial-coneCoords[0][0]),(yPosTrial-coneCoords[0][1]))\n",
    "    dist2cone2 = np.hypot((xPosTrial-coneCoords[1][0]),(yPosTrial-coneCoords[1][1]))\n",
    "    dist2cyli1 = np.hypot((xPosTrial-cyliCoords[0][0]),(yPosTrial-cyliCoords[0][1]))\n",
    "    dist2cyli2 = np.hypot((xPosTrial-cyliCoords[1][0]),(yPosTrial-cyliCoords[1][1]))\n",
    "\n",
    "    # compute distance to closest landmark\n",
    "    dist2closestCone = np.minimum(dist2cone1,dist2cone2)\n",
    "    dist2closestCyli = np.minimum(dist2cyli1,dist2cyli2)\n",
    "\n",
    "    entriesCone,exitsCone,visitTCone,entryTimeCone,exitTimeCone = countvisits(dist2closestCone,visitRad)\n",
    "    entriesCyli,exitsCyli,visitTCyli,entryTimeCyli,exitTimeCyli = countvisits(dist2closestCyli,visitRad)\n",
    "    \n",
    "    #plot past trajectory\n",
    "    framePlt[1].scatter(xPosTrial[frameRange[0]:frame],yPosTrial[frameRange[0]:frame],s=3,c=np.arange(frameRange[0],frame),\n",
    "                 cmap=mycmap, vmin=frameRange[0], vmax=frameRange[-1], alpha=0.5)\n",
    "    \n",
    "    # plot position\n",
    "    plotBodyAngle(framePlt[1], xpos, ypos, angleFly[frame],'black', 0.6, 6)\n",
    "    framePlt[1].plot(xpos,ypos,'.',color=timeCMap.to_rgba(frame),markersize=16)\n",
    "\n",
    "    if(entriesCone[frame]>0):\n",
    "        framePlt[1].plot(xpos,ypos,'o',markersize=20, color=coneColor)\n",
    "    \n",
    "    if(entriesCyli[frame]>0):\n",
    "        framePlt[1].plot(xpos,ypos,'o',markersize=20, color=cyliColor)\n",
    "        \n",
    "    if(evTrial[frame]>0):\n",
    "        framePlt[1].plot(xpos,ypos,'.',markersize=15,color='darkred')\n",
    "\n",
    "    framePlt[1].plot(cyliCoords[0][0], cyliCoords[0][1], marker='s', markersize=11, alpha=0.6, color='black')\n",
    "    framePlt[1].plot(coneCoords[0][0], coneCoords[0][1], marker='^', markersize=14, alpha=0.6, color='black')\n",
    "    framePlt[1].plot(coneCoords[1][0], coneCoords[1][1], marker='^', markersize=14, alpha=0.6, color='black')\n",
    "    framePlt[1].plot(cyliCoords[1][0], cyliCoords[1][1], marker='s', markersize=11, alpha=0.6, color='black')\n",
    "\n",
    "    framePlt[1].set_xlim(0,120)\n",
    "    framePlt[1].set_ylim(-60,60)\n",
    "    framePlt[1].set_aspect('equal')\n",
    "    \n",
    "    framePlt[1].set_title('Collapsed trajectory', fontsize=14)\n",
    "    framePlt[1].get_xaxis().set_visible(False)\n",
    "    framePlt[1].get_yaxis().set_visible(False)\n",
    "    \n",
    "    # plot frame from video\n",
    "    num=int(np.round(slctframes[frame]))\n",
    "    image = vid.get_data(num)\n",
    "    framePlt[2].set_title(' fly video: frame {}'.format(num), fontsize=14)\n",
    "    framePlt[2].imshow(image)\n",
    "    framePlt[2].invert_xaxis()\n",
    "    framePlt[2].get_xaxis().set_visible(False)\n",
    "    framePlt[2].get_yaxis().set_visible(False)\n",
    "        \n",
    "    frameFig.savefig(analysisDir + 'movieMaterial_fly-trace/frames/'+ genotype +'_'+flyIDs[0][0]\n",
    "                       +'_all_fly'+ flyIDs[fly] +'_frame'+frameName.zfill(5)+'.jpeg', format='jpeg')\n",
    "    \n",
    "    plt.close(\"all\")"
   ]
  },
  {
   "cell_type": "code",
   "execution_count": null,
   "metadata": {
    "collapsed": true
   },
   "outputs": [],
   "source": []
  },
  {
   "cell_type": "code",
   "execution_count": null,
   "metadata": {
    "collapsed": true
   },
   "outputs": [],
   "source": []
  },
  {
   "cell_type": "markdown",
   "metadata": {},
   "source": [
    "## Make combined movie: trajectory + VR\n",
    "### Version 1: collapsed trajectory left, scene right"
   ]
  },
  {
   "cell_type": "code",
   "execution_count": 40,
   "metadata": {
    "collapsed": true
   },
   "outputs": [],
   "source": [
    "fly=16\n",
    "trial = 1\n",
    "\n",
    "trialtype = trialName[trial]\n",
    "\n",
    "querystring = '(trialtype==\"' + trialtype + '\") & (flyID == \"'+flyIDs[fly]+'\")'\n",
    "xPos = FOAllFlies_df.query(querystring)['xPosInMiniarena'].values.squeeze()\n",
    "yPos = FOAllFlies_df.query(querystring)['yPosInMiniarena'].values.squeeze()\n",
    "xPosTrial = FOAllFlies_df.query(querystring).iloc[:, keyind_xPos:keyind_xPos+1].values.squeeze()\n",
    "yPosTrial = FOAllFlies_df.query(querystring).iloc[:, keyind_yPos:keyind_yPos+1].values.squeeze()\n",
    "angleFly = FOAllFlies_df.query(querystring).iloc[:, keyind_ang:keyind_ang+1].values.squeeze()\n",
    "timeTrial = FOAllFlies_df.query(querystring).iloc[:, keyind_t:keyind_t+1].values.squeeze()\n",
    "evTrial = FOAllFlies_df.query(querystring).iloc[:,keyind_EV:keyind_EV+1].values.squeeze()\n",
    "x = FOAllFlies_df.query(querystring)['xPos'].values.squeeze()\n",
    "y = FOAllFlies_df.query(querystring)['yPos'].values.squeeze()"
   ]
  },
  {
   "cell_type": "code",
   "execution_count": 41,
   "metadata": {
    "collapsed": true
   },
   "outputs": [],
   "source": [
    "vrFramesDir = 'VR_minutes11-115_120hfov_20Hz'\n",
    "vrFramesStem = 'flyvr_movie_11-115_120hfov_20Hz'"
   ]
  },
  {
   "cell_type": "code",
   "execution_count": 21,
   "metadata": {},
   "outputs": [
    {
     "name": "stdout",
     "output_type": "stream",
     "text": [
      "directory already exists\n"
     ]
    },
    {
     "name": "stderr",
     "output_type": "stream",
     "text": [
      "/Users/haberkernh/anaconda3/envs/py2.7/lib/python2.7/site-packages/ipykernel_launcher.py:45: RuntimeWarning: invalid value encountered in minimum\n",
      "/Users/haberkernh/anaconda3/envs/py2.7/lib/python2.7/site-packages/ipykernel_launcher.py:46: RuntimeWarning: invalid value encountered in minimum\n"
     ]
    }
   ],
   "source": [
    "frameDirName = 'colTrajVRframes'\n",
    "\n",
    "try:\n",
    "    mkdir(analysisDir + 'movieMaterial'+sep+frameDirName+sep)\n",
    "except:\n",
    "    print('directory already exists')\n",
    "\n",
    "tstart = 11\n",
    "tend = 11.05\n",
    "\n",
    "frameRange = range(tstart*20*60,int(tend*20*60))\n",
    "\n",
    "# select frames for VR video\n",
    "frameratevr = 20\n",
    "vrslctframes = np.linspace(0,int((tend-tstart)*60*frameratevr),int(20*60*(tend-tstart)))\n",
    "\n",
    "# color code for time\n",
    "cNorm  = colors.Normalize(vmin=0, vmax=len(frameRange))\n",
    "mycmap = colors.LinearSegmentedColormap.from_list('myAccent',_myAccentList, N=256, gamma=1.0)\n",
    "timeCMap = plt.cm.ScalarMappable(norm=cNorm,cmap=mycmap)\n",
    "\n",
    "# color code for reinforcement\n",
    "cNorm  = colors.Normalize(vmin=0, vmax=50)\n",
    "evCMap = plt.cm.ScalarMappable(norm=cNorm,cmap='hot')\n",
    "\n",
    "xlimval = (np.min(xPos[frameRange]), np.max(xPos[frameRange]))\n",
    "ylimval = (np.min(yPos[frameRange]), np.max(yPos[frameRange]))\n",
    "\n",
    "import matplotlib.gridspec as gridspec\n",
    "                                  \n",
    "for iframe, frame in enumerate(frameRange):\n",
    "    frameName = str(iframe)\n",
    "    \n",
    "    frameFig = plt.figure(figsize=(12,5))\n",
    "    gs = gridspec.GridSpec(1,2, width_ratios=[1,1.5])\n",
    "    \n",
    "    xpos = xPosTrial[frame]\n",
    "    ypos = yPosTrial[frame]\n",
    "    \n",
    "    # compute distance to each landmark\n",
    "    dist2cone1 = np.hypot((xPosTrial-coneCoords[0][0]),(yPosTrial-coneCoords[0][1]))\n",
    "    dist2cone2 = np.hypot((xPosTrial-coneCoords[1][0]),(yPosTrial-coneCoords[1][1]))\n",
    "    dist2cyli1 = np.hypot((xPosTrial-cyliCoords[0][0]),(yPosTrial-cyliCoords[0][1]))\n",
    "    dist2cyli2 = np.hypot((xPosTrial-cyliCoords[1][0]),(yPosTrial-cyliCoords[1][1]))\n",
    "\n",
    "    # compute distance to closest landmark\n",
    "    dist2closestCone = np.minimum(dist2cone1,dist2cone2)\n",
    "    dist2closestCyli = np.minimum(dist2cyli1,dist2cyli2)\n",
    "\n",
    "    entriesCone,exitsCone,visitTCone,entryTimeCone,exitTimeCone = countvisits(dist2closestCone,visitRad)\n",
    "    entriesCyli,exitsCyli,visitTCyli,entryTimeCyli,exitTimeCyli = countvisits(dist2closestCyli,visitRad)\n",
    "    \n",
    "    #plot past trajectory\n",
    "    framePlt = frameFig.add_subplot(gs[0,0])\n",
    "    #framePlt.scatter(xPosTrial[frameRange[0]:frame],yPosTrial[frameRange[0]:frame],s=3,c=np.arange(frameRange[0],frame),\n",
    "    #             cmap=mycmap, vmin=frameRange[0], vmax=frameRange[-1], alpha=0.5)\n",
    "    framePlt.scatter(xPosTrial[frameRange[0]:frame],yPosTrial[frameRange[0]:frame],s=3,c=evTrial[frameRange[0]:frame],\n",
    "                 cmap='hot', vmin=0, vmax=50, alpha=0.5)\n",
    "    \n",
    "    # plot position\n",
    "    plotBodyAngle(framePlt, xpos, ypos, angleFly[frame],'black', 0.6, 6)\n",
    "    framePlt.plot(xpos,ypos,'.',color=evCMap.to_rgba(evTrial[frame]),markersize=18)\n",
    "\n",
    "    if(entriesCone[frame]>0):\n",
    "        framePlt.plot(xpos,ypos,'o',markersize=22, color=coneColor)\n",
    "    \n",
    "    if(entriesCyli[frame]>0):\n",
    "        framePlt.plot(xpos,ypos,'o',markersize=22, color=cyliColor)\n",
    "        \n",
    "    #if(evTrial[frame]>0):\n",
    "    #    framePlt.plot(xpos,ypos,'.',markersize=20,color='darkred')\n",
    "\n",
    "    framePlt.plot(cyliCoords[0][0], cyliCoords[0][1], marker='s', markersize=11, alpha=0.6, color=cyliColor)\n",
    "    framePlt.plot(coneCoords[0][0], coneCoords[0][1], marker='^', markersize=14, alpha=0.6, color=coneColor)\n",
    "    framePlt.plot(coneCoords[1][0], coneCoords[1][1], marker='^', markersize=14, alpha=0.6, color=coneColor)\n",
    "    framePlt.plot(cyliCoords[1][0], cyliCoords[1][1], marker='s', markersize=11, alpha=0.6, color=cyliColor)\n",
    "\n",
    "    framePlt.set_xlim(0,120)\n",
    "    framePlt.set_ylim(-60,60)\n",
    "    framePlt.set_aspect('equal')\n",
    "    \n",
    "    framePlt.set_title('Collapsed trajectory', fontsize=14)\n",
    "    framePlt.get_xaxis().set_visible(False)\n",
    "    framePlt.get_yaxis().set_visible(False)\n",
    "    \n",
    "    # plot frame from video\n",
    "    framePlt = frameFig.add_subplot(gs[0,1])\n",
    "    num=int(np.round(vrslctframes[iframe]))+1\n",
    "    image = imageio.imread(analysisDir+'movieMaterial/'+vrFramesDir+sep+vrFramesStem+'_{}.jp'.format(str(num).zfill(6)))\n",
    "    framePlt.set_title('Rendered VR scene', fontsize=14)\n",
    "    framePlt.imshow(image)\n",
    "    framePlt.get_xaxis().set_visible(False)\n",
    "    framePlt.get_yaxis().set_visible(False)\n",
    "    \n",
    "    frameFig.tight_layout()\n",
    "    frameFig.savefig(analysisDir + 'movieMaterial'+sep+frameDirName+sep+ genotype +'_'+flyIDs[0][0]\n",
    "                       +'_all_fly'+ flyIDs[fly] +'_frame'+frameName.zfill(5)+'.jpeg', format='jpeg')\n",
    "    \n",
    "    plt.close(\"all\")"
   ]
  },
  {
   "cell_type": "markdown",
   "metadata": {
    "collapsed": true
   },
   "source": [
    "### Version 2: Large scene, collapsed traj. in corner (video game version)"
   ]
  },
  {
   "cell_type": "code",
   "execution_count": 22,
   "metadata": {
    "scrolled": true
   },
   "outputs": [
    {
     "name": "stderr",
     "output_type": "stream",
     "text": [
      "/Users/haberkernh/anaconda3/envs/py2.7/lib/python2.7/site-packages/ipykernel_launcher.py:46: RuntimeWarning: invalid value encountered in minimum\n",
      "/Users/haberkernh/anaconda3/envs/py2.7/lib/python2.7/site-packages/ipykernel_launcher.py:47: RuntimeWarning: invalid value encountered in minimum\n"
     ]
    },
    {
     "ename": "KeyboardInterrupt",
     "evalue": "",
     "output_type": "error",
     "traceback": [
      "\u001b[0;31m---------------------------------------------------------------------------\u001b[0m",
      "\u001b[0;31mKeyboardInterrupt\u001b[0m                         Traceback (most recent call last)",
      "\u001b[0;32m<ipython-input-22-584535ff2bcb>\u001b[0m in \u001b[0;36m<module>\u001b[0;34m()\u001b[0m\n\u001b[1;32m     65\u001b[0m     \u001b[0;31m# plot position\u001b[0m\u001b[0;34m\u001b[0m\u001b[0;34m\u001b[0m\u001b[0m\n\u001b[1;32m     66\u001b[0m     \u001b[0mplotBodyAngle\u001b[0m\u001b[0;34m(\u001b[0m\u001b[0mframePlt\u001b[0m\u001b[0;34m,\u001b[0m \u001b[0mxpos\u001b[0m\u001b[0;34m,\u001b[0m \u001b[0mypos\u001b[0m\u001b[0;34m,\u001b[0m \u001b[0mangleFly\u001b[0m\u001b[0;34m[\u001b[0m\u001b[0mframe\u001b[0m\u001b[0;34m]\u001b[0m\u001b[0;34m,\u001b[0m\u001b[0;34m'black'\u001b[0m\u001b[0;34m,\u001b[0m \u001b[0;36m0.6\u001b[0m\u001b[0;34m,\u001b[0m \u001b[0;36m8\u001b[0m\u001b[0;34m)\u001b[0m\u001b[0;34m\u001b[0m\u001b[0m\n\u001b[0;32m---> 67\u001b[0;31m     \u001b[0mframePlt\u001b[0m\u001b[0;34m.\u001b[0m\u001b[0mplot\u001b[0m\u001b[0;34m(\u001b[0m\u001b[0mxpos\u001b[0m\u001b[0;34m,\u001b[0m\u001b[0mypos\u001b[0m\u001b[0;34m,\u001b[0m\u001b[0;34m'.'\u001b[0m\u001b[0;34m,\u001b[0m\u001b[0mcolor\u001b[0m\u001b[0;34m=\u001b[0m\u001b[0mevCMap\u001b[0m\u001b[0;34m.\u001b[0m\u001b[0mto_rgba\u001b[0m\u001b[0;34m(\u001b[0m\u001b[0mevTrial\u001b[0m\u001b[0;34m[\u001b[0m\u001b[0mframe\u001b[0m\u001b[0;34m]\u001b[0m\u001b[0;34m)\u001b[0m\u001b[0;34m,\u001b[0m\u001b[0mmarkersize\u001b[0m\u001b[0;34m=\u001b[0m\u001b[0;36m12\u001b[0m\u001b[0;34m)\u001b[0m\u001b[0;34m\u001b[0m\u001b[0m\n\u001b[0m\u001b[1;32m     68\u001b[0m \u001b[0;34m\u001b[0m\u001b[0m\n\u001b[1;32m     69\u001b[0m     \u001b[0;32mif\u001b[0m\u001b[0;34m(\u001b[0m\u001b[0mentriesCone\u001b[0m\u001b[0;34m[\u001b[0m\u001b[0mframe\u001b[0m\u001b[0;34m]\u001b[0m\u001b[0;34m>\u001b[0m\u001b[0;36m0\u001b[0m\u001b[0;34m)\u001b[0m\u001b[0;34m:\u001b[0m\u001b[0;34m\u001b[0m\u001b[0m\n",
      "\u001b[0;32m/Users/haberkernh/anaconda3/envs/py2.7/lib/python2.7/site-packages/matplotlib/cm.pyc\u001b[0m in \u001b[0;36mto_rgba\u001b[0;34m(self, x, alpha, bytes, norm)\u001b[0m\n\u001b[1;32m    273\u001b[0m         \u001b[0mx\u001b[0m \u001b[0;34m=\u001b[0m \u001b[0mma\u001b[0m\u001b[0;34m.\u001b[0m\u001b[0masarray\u001b[0m\u001b[0;34m(\u001b[0m\u001b[0mx\u001b[0m\u001b[0;34m)\u001b[0m\u001b[0;34m\u001b[0m\u001b[0m\n\u001b[1;32m    274\u001b[0m         \u001b[0;32mif\u001b[0m \u001b[0mnorm\u001b[0m\u001b[0;34m:\u001b[0m\u001b[0;34m\u001b[0m\u001b[0m\n\u001b[0;32m--> 275\u001b[0;31m             \u001b[0mx\u001b[0m \u001b[0;34m=\u001b[0m \u001b[0mself\u001b[0m\u001b[0;34m.\u001b[0m\u001b[0mnorm\u001b[0m\u001b[0;34m(\u001b[0m\u001b[0mx\u001b[0m\u001b[0;34m)\u001b[0m\u001b[0;34m\u001b[0m\u001b[0m\n\u001b[0m\u001b[1;32m    276\u001b[0m         \u001b[0mrgba\u001b[0m \u001b[0;34m=\u001b[0m \u001b[0mself\u001b[0m\u001b[0;34m.\u001b[0m\u001b[0mcmap\u001b[0m\u001b[0;34m(\u001b[0m\u001b[0mx\u001b[0m\u001b[0;34m,\u001b[0m \u001b[0malpha\u001b[0m\u001b[0;34m=\u001b[0m\u001b[0malpha\u001b[0m\u001b[0;34m,\u001b[0m \u001b[0mbytes\u001b[0m\u001b[0;34m=\u001b[0m\u001b[0mbytes\u001b[0m\u001b[0;34m)\u001b[0m\u001b[0;34m\u001b[0m\u001b[0m\n\u001b[1;32m    277\u001b[0m         \u001b[0;32mreturn\u001b[0m \u001b[0mrgba\u001b[0m\u001b[0;34m\u001b[0m\u001b[0m\n",
      "\u001b[0;32m/Users/haberkernh/anaconda3/envs/py2.7/lib/python2.7/site-packages/matplotlib/colors.pyc\u001b[0m in \u001b[0;36m__call__\u001b[0;34m(self, value, clip)\u001b[0m\n\u001b[1;32m    922\u001b[0m         \u001b[0;31m# Convert at least to float, without losing precision.\u001b[0m\u001b[0;34m\u001b[0m\u001b[0;34m\u001b[0m\u001b[0m\n\u001b[1;32m    923\u001b[0m         \u001b[0;34m(\u001b[0m\u001b[0mvmin\u001b[0m\u001b[0;34m,\u001b[0m\u001b[0;34m)\u001b[0m\u001b[0;34m,\u001b[0m \u001b[0m_\u001b[0m \u001b[0;34m=\u001b[0m \u001b[0mself\u001b[0m\u001b[0;34m.\u001b[0m\u001b[0mprocess_value\u001b[0m\u001b[0;34m(\u001b[0m\u001b[0mself\u001b[0m\u001b[0;34m.\u001b[0m\u001b[0mvmin\u001b[0m\u001b[0;34m)\u001b[0m\u001b[0;34m\u001b[0m\u001b[0m\n\u001b[0;32m--> 924\u001b[0;31m         \u001b[0;34m(\u001b[0m\u001b[0mvmax\u001b[0m\u001b[0;34m,\u001b[0m\u001b[0;34m)\u001b[0m\u001b[0;34m,\u001b[0m \u001b[0m_\u001b[0m \u001b[0;34m=\u001b[0m \u001b[0mself\u001b[0m\u001b[0;34m.\u001b[0m\u001b[0mprocess_value\u001b[0m\u001b[0;34m(\u001b[0m\u001b[0mself\u001b[0m\u001b[0;34m.\u001b[0m\u001b[0mvmax\u001b[0m\u001b[0;34m)\u001b[0m\u001b[0;34m\u001b[0m\u001b[0m\n\u001b[0m\u001b[1;32m    925\u001b[0m         \u001b[0;32mif\u001b[0m \u001b[0mvmin\u001b[0m \u001b[0;34m==\u001b[0m \u001b[0mvmax\u001b[0m\u001b[0;34m:\u001b[0m\u001b[0;34m\u001b[0m\u001b[0m\n\u001b[1;32m    926\u001b[0m             \u001b[0mresult\u001b[0m\u001b[0;34m.\u001b[0m\u001b[0mfill\u001b[0m\u001b[0;34m(\u001b[0m\u001b[0;36m0\u001b[0m\u001b[0;34m)\u001b[0m   \u001b[0;31m# Or should it be all masked?  Or 0.5?\u001b[0m\u001b[0;34m\u001b[0m\u001b[0m\n",
      "\u001b[0;32m/Users/haberkernh/anaconda3/envs/py2.7/lib/python2.7/site-packages/matplotlib/colors.pyc\u001b[0m in \u001b[0;36mprocess_value\u001b[0;34m(value)\u001b[0m\n\u001b[1;32m    903\u001b[0m         \u001b[0mmask\u001b[0m \u001b[0;34m=\u001b[0m \u001b[0mnp\u001b[0m\u001b[0;34m.\u001b[0m\u001b[0mma\u001b[0m\u001b[0;34m.\u001b[0m\u001b[0mgetmask\u001b[0m\u001b[0;34m(\u001b[0m\u001b[0mvalue\u001b[0m\u001b[0;34m)\u001b[0m\u001b[0;34m\u001b[0m\u001b[0m\n\u001b[1;32m    904\u001b[0m         \u001b[0mdata\u001b[0m \u001b[0;34m=\u001b[0m \u001b[0mnp\u001b[0m\u001b[0;34m.\u001b[0m\u001b[0masarray\u001b[0m\u001b[0;34m(\u001b[0m\u001b[0mnp\u001b[0m\u001b[0;34m.\u001b[0m\u001b[0mma\u001b[0m\u001b[0;34m.\u001b[0m\u001b[0mgetdata\u001b[0m\u001b[0;34m(\u001b[0m\u001b[0mvalue\u001b[0m\u001b[0;34m)\u001b[0m\u001b[0;34m)\u001b[0m\u001b[0;34m\u001b[0m\u001b[0m\n\u001b[0;32m--> 905\u001b[0;31m         \u001b[0mresult\u001b[0m \u001b[0;34m=\u001b[0m \u001b[0mnp\u001b[0m\u001b[0;34m.\u001b[0m\u001b[0mma\u001b[0m\u001b[0;34m.\u001b[0m\u001b[0marray\u001b[0m\u001b[0;34m(\u001b[0m\u001b[0mdata\u001b[0m\u001b[0;34m,\u001b[0m \u001b[0mmask\u001b[0m\u001b[0;34m=\u001b[0m\u001b[0mmask\u001b[0m\u001b[0;34m,\u001b[0m \u001b[0mdtype\u001b[0m\u001b[0;34m=\u001b[0m\u001b[0mdtype\u001b[0m\u001b[0;34m,\u001b[0m \u001b[0mcopy\u001b[0m\u001b[0;34m=\u001b[0m\u001b[0mTrue\u001b[0m\u001b[0;34m)\u001b[0m\u001b[0;34m\u001b[0m\u001b[0m\n\u001b[0m\u001b[1;32m    906\u001b[0m         \u001b[0;32mreturn\u001b[0m \u001b[0mresult\u001b[0m\u001b[0;34m,\u001b[0m \u001b[0mis_scalar\u001b[0m\u001b[0;34m\u001b[0m\u001b[0m\n\u001b[1;32m    907\u001b[0m \u001b[0;34m\u001b[0m\u001b[0m\n",
      "\u001b[0;32m/Users/haberkernh/anaconda3/envs/py2.7/lib/python2.7/site-packages/numpy/ma/core.pyc\u001b[0m in \u001b[0;36marray\u001b[0;34m(data, dtype, copy, order, mask, fill_value, keep_mask, hard_mask, shrink, subok, ndmin)\u001b[0m\n\u001b[1;32m   6297\u001b[0m                        \u001b[0msubok\u001b[0m\u001b[0;34m=\u001b[0m\u001b[0msubok\u001b[0m\u001b[0;34m,\u001b[0m \u001b[0mkeep_mask\u001b[0m\u001b[0;34m=\u001b[0m\u001b[0mkeep_mask\u001b[0m\u001b[0;34m,\u001b[0m\u001b[0;34m\u001b[0m\u001b[0m\n\u001b[1;32m   6298\u001b[0m                        \u001b[0mhard_mask\u001b[0m\u001b[0;34m=\u001b[0m\u001b[0mhard_mask\u001b[0m\u001b[0;34m,\u001b[0m \u001b[0mfill_value\u001b[0m\u001b[0;34m=\u001b[0m\u001b[0mfill_value\u001b[0m\u001b[0;34m,\u001b[0m\u001b[0;34m\u001b[0m\u001b[0m\n\u001b[0;32m-> 6299\u001b[0;31m                        ndmin=ndmin, shrink=shrink, order=order)\n\u001b[0m\u001b[1;32m   6300\u001b[0m \u001b[0marray\u001b[0m\u001b[0;34m.\u001b[0m\u001b[0m__doc__\u001b[0m \u001b[0;34m=\u001b[0m \u001b[0mmasked_array\u001b[0m\u001b[0;34m.\u001b[0m\u001b[0m__doc__\u001b[0m\u001b[0;34m\u001b[0m\u001b[0m\n\u001b[1;32m   6301\u001b[0m \u001b[0;34m\u001b[0m\u001b[0m\n",
      "\u001b[0;32m/Users/haberkernh/anaconda3/envs/py2.7/lib/python2.7/site-packages/numpy/ma/core.pyc\u001b[0m in \u001b[0;36m__new__\u001b[0;34m(cls, data, mask, dtype, copy, subok, ndmin, fill_value, keep_mask, hard_mask, shrink, order, **options)\u001b[0m\n\u001b[1;32m   2918\u001b[0m         \u001b[0;31m# Update fill_value.\u001b[0m\u001b[0;34m\u001b[0m\u001b[0;34m\u001b[0m\u001b[0m\n\u001b[1;32m   2919\u001b[0m         \u001b[0;32mif\u001b[0m \u001b[0mfill_value\u001b[0m \u001b[0;32mis\u001b[0m \u001b[0mNone\u001b[0m\u001b[0;34m:\u001b[0m\u001b[0;34m\u001b[0m\u001b[0m\n\u001b[0;32m-> 2920\u001b[0;31m             \u001b[0mfill_value\u001b[0m \u001b[0;34m=\u001b[0m \u001b[0mgetattr\u001b[0m\u001b[0;34m(\u001b[0m\u001b[0mdata\u001b[0m\u001b[0;34m,\u001b[0m \u001b[0;34m'_fill_value'\u001b[0m\u001b[0;34m,\u001b[0m \u001b[0mNone\u001b[0m\u001b[0;34m)\u001b[0m\u001b[0;34m\u001b[0m\u001b[0m\n\u001b[0m\u001b[1;32m   2921\u001b[0m         \u001b[0;31m# But don't run the check unless we have something to check.\u001b[0m\u001b[0;34m\u001b[0m\u001b[0;34m\u001b[0m\u001b[0m\n\u001b[1;32m   2922\u001b[0m         \u001b[0;32mif\u001b[0m \u001b[0mfill_value\u001b[0m \u001b[0;32mis\u001b[0m \u001b[0;32mnot\u001b[0m \u001b[0mNone\u001b[0m\u001b[0;34m:\u001b[0m\u001b[0;34m\u001b[0m\u001b[0m\n",
      "\u001b[0;31mKeyboardInterrupt\u001b[0m: "
     ]
    },
    {
     "data": {
      "image/png": "[encoded data removed]",
      "text/plain": [
       "<matplotlib.figure.Figure at 0x1a14bbbe90>"
      ]
     },
     "metadata": {},
     "output_type": "display_data"
    }
   ],
   "source": [
    "frameDirName = 'colTrajVRframes_v2'\n",
    "\n",
    "try:\n",
    "    mkdir(analysisDir + 'movieMaterial'+sep+frameDirName+sep)\n",
    "except:\n",
    "    print('directory already exists')\n",
    "\n",
    "tstart = 11\n",
    "tend = 11.5\n",
    "\n",
    "frameRange = range(tstart*20*60,int(tend*20*60))\n",
    "\n",
    "# select frames for VR video\n",
    "frameratevr = 20\n",
    "vrslctframes = np.linspace(0,int((tend-tstart)*60*frameratevr),int(20*60*(tend-tstart)))\n",
    "\n",
    "# color code for time\n",
    "cNorm  = colors.Normalize(vmin=0, vmax=len(frameRange))\n",
    "mycmap = colors.LinearSegmentedColormap.from_list('myAccent',_myAccentList, N=256, gamma=1.0)\n",
    "timeCMap = plt.cm.ScalarMappable(norm=cNorm,cmap=mycmap)\n",
    "\n",
    "# color code for reinforcement\n",
    "cNorm  = colors.Normalize(vmin=0, vmax=50)\n",
    "evCMap = plt.cm.ScalarMappable(norm=cNorm,cmap='hot')\n",
    "\n",
    "xlimval = (np.min(xPos[frameRange]), np.max(xPos[frameRange]))\n",
    "ylimval = (np.min(yPos[frameRange]), np.max(yPos[frameRange]))\n",
    "\n",
    "import matplotlib.gridspec as gridspec\n",
    "                                  \n",
    "for iframe, frame in enumerate(frameRange):\n",
    "    frameName = str(iframe)\n",
    "    \n",
    "    frameFig, framePlt = plt.subplots(1,1, figsize=(11,7))\n",
    "    \n",
    "    xpos = xPosTrial[frame]\n",
    "    ypos = yPosTrial[frame]\n",
    "    \n",
    "    # compute distance to each landmark\n",
    "    dist2cone1 = np.hypot((xPosTrial-coneCoords[0][0]),(yPosTrial-coneCoords[0][1]))\n",
    "    dist2cone2 = np.hypot((xPosTrial-coneCoords[1][0]),(yPosTrial-coneCoords[1][1]))\n",
    "    dist2cyli1 = np.hypot((xPosTrial-cyliCoords[0][0]),(yPosTrial-cyliCoords[0][1]))\n",
    "    dist2cyli2 = np.hypot((xPosTrial-cyliCoords[1][0]),(yPosTrial-cyliCoords[1][1]))\n",
    "\n",
    "    # compute distance to closest landmark\n",
    "    dist2closestCone = np.minimum(dist2cone1,dist2cone2)\n",
    "    dist2closestCyli = np.minimum(dist2cyli1,dist2cyli2)\n",
    "\n",
    "    entriesCone,exitsCone,visitTCone,entryTimeCone,exitTimeCone = countvisits(dist2closestCone,visitRad)\n",
    "    entriesCyli,exitsCyli,visitTCyli,entryTimeCyli,exitTimeCyli = countvisits(dist2closestCyli,visitRad)\n",
    "    \n",
    "    # plot frame from video\n",
    "    num=int(np.round(vrslctframes[iframe]))+1\n",
    "    image = imageio.imread(analysisDir+'movieMaterial/'+vrFramesDir+sep+vrFramesStem+'_{}.jp'.format(str(num).zfill(6)))\n",
    "    framePlt.imshow(image)\n",
    "    framePlt.axis('off')\n",
    "    \n",
    "    #plot past trajectory\n",
    "    framePlt = plt.axes([.65, .6, .25, .25], facecolor='w')\n",
    "    #framePlt.scatter(xPosTrial[frameRange[0]:frame],yPosTrial[frameRange[0]:frame],s=3,c=np.arange(frameRange[0],frame),\n",
    "    #             cmap=mycmap, vmin=frameRange[0], vmax=frameRange[-1], alpha=0.5)\n",
    "    #framePlt.scatter(xPosTrial[frameRange[0]:frame],yPosTrial[frameRange[0]:frame],s=3,c=evTrial[frameRange[0]:frame],\n",
    "    #             cmap='hot', vmin=0, vmax=50, alpha=0.5)\n",
    "    \n",
    "    # plot position\n",
    "    plotBodyAngle(framePlt, xpos, ypos, angleFly[frame],'black', 0.6, 8)\n",
    "    framePlt.plot(xpos,ypos,'.',color=evCMap.to_rgba(evTrial[frame]),markersize=12)\n",
    "\n",
    "    if(entriesCone[frame]>0):\n",
    "        framePlt.plot(xpos,ypos,'o',markersize=15, color=coneColor)\n",
    "    \n",
    "    if(entriesCyli[frame]>0):\n",
    "        framePlt.plot(xpos,ypos,'o',markersize=15, color=cyliColor)\n",
    "        \n",
    "    #if(evTrial[frame]>0):\n",
    "    #    framePlt.plot(xpos,ypos,'.',markersize=20,color='darkred')\n",
    "\n",
    "    framePlt.plot(cyliCoords[0][0], cyliCoords[0][1], marker='s', markersize=8, alpha=0.6, color=cyliColor)\n",
    "    framePlt.plot(coneCoords[0][0], coneCoords[0][1], marker='^', markersize=11, alpha=0.6, color=coneColor)\n",
    "    framePlt.plot(coneCoords[1][0], coneCoords[1][1], marker='^', markersize=11, alpha=0.6, color=coneColor)\n",
    "    framePlt.plot(cyliCoords[1][0], cyliCoords[1][1], marker='s', markersize=8, alpha=0.6, color=cyliColor)\n",
    "\n",
    "    framePlt.set_xlim(0,120)\n",
    "    framePlt.set_ylim(-60,60)\n",
    "    framePlt.set_aspect('equal')\n",
    "    \n",
    "    framePlt.get_xaxis().set_visible(False)\n",
    "    framePlt.get_yaxis().set_visible(False)\n",
    "    plt.setp(framePlt.spines.values(), color='grey')\n",
    "    \n",
    "    #plot optogenetic stimulation\n",
    "    framePlt = plt.axes([.13, .75, .1, .1], facecolor='none')\n",
    "    framePlt.scatter(1,1,s=evTrial[frame]*30,c=evTrial[frame],cmap='hot', vmin=0, vmax=50, edgecolors='grey')\n",
    "    framePlt.axis('off')\n",
    "\n",
    "    #frameFig.tight_layout()\n",
    "    frameFig.savefig(analysisDir + 'movieMaterial'+sep+frameDirName+sep+ genotype +'_'+flyIDs[0][0]\n",
    "                       +'_all_fly'+ flyIDs[fly] +'_frame'+frameName.zfill(5)+'.jpeg', format='jpeg')\n",
    "    \n",
    "    plt.close(\"all\")"
   ]
  },
  {
   "cell_type": "markdown",
   "metadata": {},
   "source": [
    "### Version 3: non-collapsed trajectory with scene"
   ]
  },
  {
   "cell_type": "code",
   "execution_count": 50,
   "metadata": {
    "collapsed": true
   },
   "outputs": [],
   "source": [
    "coordFile = 'twoObjectForest_1cm4cmConeRZone1_08cm3cmCyliRZone2_6cmGrid_wn10000.coords'\n",
    "\n",
    "# get object positions\n",
    "visibleObjectCoords, visibleObjectName, invisibleObjectCoords, origin = loadObjectCoordIdentities(sep.join(dataDir.split(sep)[:-2])+sep, coordFile)\n",
    "coneShape = np.asarray([bool('Cone' in objName) for objName in visibleObjectName])\n",
    "cyliShape = np.asarray([bool('Cyli' in objName) for objName in visibleObjectName])"
   ]
  },
  {
   "cell_type": "code",
   "execution_count": 67,
   "metadata": {},
   "outputs": [
    {
     "name": "stdout",
     "output_type": "stream",
     "text": [
      "directory already exists\n"
     ]
    }
   ],
   "source": [
    "frameDirName = 'trajVRframes_vert'\n",
    "\n",
    "try:\n",
    "    mkdir(analysisDir + 'movieMaterial'+sep+frameDirName+sep)\n",
    "except:\n",
    "    print('directory already exists')\n",
    "\n",
    "tstart = 11\n",
    "tend = 11.5\n",
    "\n",
    "frameRange = range(tstart*20*60,int(tend*20*60))\n",
    "\n",
    "# select frames for VR video\n",
    "frameratevr = 20\n",
    "vrslctframes = np.linspace(0,int((tend-tstart)*60*frameratevr),int(20*60*(tend-tstart)))\n",
    "\n",
    "# color code for time\n",
    "cNorm  = colors.Normalize(vmin=0, vmax=len(frameRange))\n",
    "mycmap = colors.LinearSegmentedColormap.from_list('myAccent',_myAccentList, N=256, gamma=1.0)\n",
    "timeCMap = plt.cm.ScalarMappable(norm=cNorm,cmap=mycmap)\n",
    "\n",
    "# color code for reinforcement\n",
    "cNorm  = colors.Normalize(vmin=0, vmax=50)\n",
    "evCMap = plt.cm.ScalarMappable(norm=cNorm,cmap='hot')\n",
    "\n",
    "xlimval = (np.min(x[frameRange]), np.max(x[frameRange]))\n",
    "ylimval = (np.min(y[frameRange]), np.max(y[frameRange]))\n",
    "\n",
    "import matplotlib.gridspec as gridspec\n",
    "                                  \n",
    "for iframe, frame in enumerate(frameRange):\n",
    "    frameName = str(iframe)\n",
    "    \n",
    "    frameFig = plt.figure(figsize=(7,10))\n",
    "    gs = gridspec.GridSpec(2,1, height_ratios=[1,1])\n",
    "    \n",
    "    xpos = x[frame]\n",
    "    ypos = y[frame]\n",
    "    \n",
    "    # compute distance to each landmark\n",
    "    dist2cone1 = np.hypot((xPosTrial-coneCoords[0][0]),(yPosTrial-coneCoords[0][1]))\n",
    "    dist2cone2 = np.hypot((xPosTrial-coneCoords[1][0]),(yPosTrial-coneCoords[1][1]))\n",
    "    dist2cyli1 = np.hypot((xPosTrial-cyliCoords[0][0]),(yPosTrial-cyliCoords[0][1]))\n",
    "    dist2cyli2 = np.hypot((xPosTrial-cyliCoords[1][0]),(yPosTrial-cyliCoords[1][1]))\n",
    "\n",
    "    # compute distance to closest landmark\n",
    "    dist2closestCone = np.minimum(dist2cone1,dist2cone2)\n",
    "    dist2closestCyli = np.minimum(dist2cyli1,dist2cyli2)\n",
    "\n",
    "    entriesCone,exitsCone,visitTCone,entryTimeCone,exitTimeCone = countvisits(dist2closestCone,visitRad)\n",
    "    entriesCyli,exitsCyli,visitTCyli,entryTimeCyli,exitTimeCyli = countvisits(dist2closestCyli,visitRad)\n",
    "    \n",
    "    #plot past trajectory\n",
    "    framePlt = frameFig.add_subplot(gs[0,0])\n",
    "    framePlt.scatter(x[frameRange[0]:frame],y[frameRange[0]:frame],s=7,c=evTrial[frameRange[0]:frame],\n",
    "                 cmap='hot', vmin=0, vmax=50, alpha=0.5)\n",
    "    \n",
    "    # plot position\n",
    "    plotBodyAngle(framePlt, xpos, ypos, angleFly[frame],'black', 0.6, 6)\n",
    "    framePlt.plot(xpos,ypos,'.',color=evCMap.to_rgba(evTrial[frame]),markersize=20)\n",
    "\n",
    "    framePlt.scatter(visibleObjectCoords[coneShape, 0], visibleObjectCoords[coneShape, 1], 80, alpha=0.8,\n",
    "               facecolors=coneColor, edgecolors='none', marker = '^')\n",
    "    framePlt.scatter(visibleObjectCoords[cyliShape, 0], visibleObjectCoords[cyliShape, 1], 80, alpha=0.8,\n",
    "               facecolors=cyliColor, edgecolors='none', marker = 's')\n",
    "    \n",
    "    framePlt.set_xlim(xlimval[0]-50,xlimval[1]+50)\n",
    "    framePlt.set_ylim(ylimval[0]-35,ylimval[1]+35)\n",
    "    framePlt.set_aspect('equal')\n",
    "    \n",
    "    framePlt.set_title('Trajectory', fontsize=14)\n",
    "    framePlt.get_xaxis().set_visible(False)\n",
    "    framePlt.get_yaxis().set_visible(False)\n",
    "    \n",
    "    # plot frame from video\n",
    "    framePlt = frameFig.add_subplot(gs[1,0])\n",
    "    num=int(np.round(vrslctframes[iframe]))+1\n",
    "    image = imageio.imread(analysisDir+'movieMaterial/'+vrFramesDir+sep+vrFramesStem+'_{}.jp'.format(str(num).zfill(6)))\n",
    "    framePlt.set_title('Rendered VR scene', fontsize=14)\n",
    "    framePlt.imshow(image)\n",
    "    framePlt.get_xaxis().set_visible(False)\n",
    "    framePlt.get_yaxis().set_visible(False)\n",
    "    \n",
    "    frameFig.tight_layout()\n",
    "    frameFig.savefig(analysisDir + 'movieMaterial'+sep+frameDirName+sep+ genotype +'_'+flyIDs[0][0]\n",
    "                       +'_all_fly'+ flyIDs[fly] +'_frame'+frameName.zfill(5)+'.jpeg', format='jpeg')\n",
    "    \n",
    "    plt.close(\"all\")"
   ]
  },
  {
   "cell_type": "code",
   "execution_count": null,
   "metadata": {
    "collapsed": true
   },
   "outputs": [],
   "source": []
  },
  {
   "cell_type": "code",
   "execution_count": null,
   "metadata": {
    "collapsed": true
   },
   "outputs": [],
   "source": []
  },
  {
   "cell_type": "markdown",
   "metadata": {},
   "source": [
    "## Make image of cylinder in matplotlib"
   ]
  },
  {
   "cell_type": "code",
   "execution_count": 255,
   "metadata": {
    "collapsed": true
   },
   "outputs": [],
   "source": [
    "def cylinder(R, nr, n, tmin, tmax):\n",
    "    '''\n",
    "    Returns the unit cylinder that corresponds to the curve r.\n",
    "    INPUTS:  r - a vector of radii\n",
    "             n - number of coordinates to return for each element in r\n",
    "\n",
    "    OUTPUTS: x,y,z - coordinates of points\n",
    "    '''\n",
    "\n",
    "    # ensure that r is a column vector\n",
    "    r = np.linspace(R, R,nr)\n",
    "    r = np.atleast_2d(r)\n",
    "    r_rows,r_cols = r.shape\n",
    "    \n",
    "    if r_cols > r_rows:\n",
    "        r = r.T\n",
    "\n",
    "    # find points along x and y axes\n",
    "    points  = np.linspace(tmin,tmax,n+1)\n",
    "    x = np.cos(points)*r\n",
    "    y = np.sin(points)*r\n",
    "\n",
    "    # find points along z axis\n",
    "    rpoints = np.atleast_2d(np.linspace(0,1,len(r)))\n",
    "    z = np.ones((1,n+1))*rpoints.T\n",
    "    \n",
    "    return x,y,z"
   ]
  },
  {
   "cell_type": "code",
   "execution_count": 261,
   "metadata": {},
   "outputs": [
    {
     "data": {
      "text/plain": [
       "Text(0.5,0,u'Z')"
      ]
     },
     "execution_count": 261,
     "metadata": {},
     "output_type": "execute_result"
    },
    {
     "data": {
      "image/png": "[encoded data removed]",
      "text/plain": [
       "<matplotlib.figure.Figure at 0x1a2f997c50>"
      ]
     },
     "metadata": {},
     "output_type": "display_data"
    }
   ],
   "source": [
    "import mpl_toolkits.mplot3d.axes3d as p3\n",
    "\n",
    "nr = 36\n",
    "nh = 2\n",
    "\n",
    "n=20\n",
    "\n",
    "R = 5\n",
    "H = 10\n",
    "\n",
    "tmin = -0.9\n",
    "tmax = 0.8\n",
    "\n",
    "gap = 4.19\n",
    "# get points from cylinder and plot\n",
    "[X,Y,Z] = cylinder(R, n, nr, 0, gap)#, H, nh, -0.9, 0.8)\n",
    "\n",
    "# generate face colors\n",
    "oncol = 'b'\n",
    "offcol = 'k'\n",
    "colors = np.empty(X.shape, dtype=str)\n",
    "stripeLoc = 18\n",
    "for i in range(X.shape[0]):\n",
    "    colors[i,:] = np.repeat(oncol, X.shape[1])\n",
    "    colors[i,stripeLoc:stripeLoc+2] = offcol\n",
    "    \n",
    "# make plots\n",
    "fig=plt.figure(figsize=(7,7))\n",
    "ax = fig.add_subplot(111, projection='3d')\n",
    "ax.plot_surface(X,Y,Z, color='grey',facecolors=colors, linewidth=0, alpha=0.8, antialiased=True)\n",
    "ax.set_xlabel('X')\n",
    "ax.set_ylabel('Y')\n",
    "ax.set_zlabel('Z')"
   ]
  },
  {
   "cell_type": "code",
   "execution_count": null,
   "metadata": {
    "collapsed": true
   },
   "outputs": [],
   "source": []
  },
  {
   "cell_type": "code",
   "execution_count": null,
   "metadata": {
    "collapsed": true
   },
   "outputs": [],
   "source": []
  },
  {
   "cell_type": "code",
   "execution_count": null,
   "metadata": {
    "collapsed": true
   },
   "outputs": [],
   "source": []
  }
 ],
 "metadata": {
  "kernelspec": {
   "display_name": "Python 2",
   "language": "python",
   "name": "python2"
  },
  "language_info": {
   "codemirror_mode": {
    "name": "ipython",
    "version": 2
   },
   "file_extension": ".py",
   "mimetype": "text/x-python",
   "name": "python",
   "nbconvert_exporter": "python",
   "pygments_lexer": "ipython2",
   "version": "2.7.14"
  }
 },
 "nbformat": 4,
 "nbformat_minor": 2
}
