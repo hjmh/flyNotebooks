{
 "cells": [
  {
   "cell_type": "markdown",
   "metadata": {},
   "source": [
    "## Script for generating tables with stimulation frame numbers from ufmf-movie luminance traces\n",
    "### First run fiji macro to generate luminance traces of the indicator LEDs"
   ]
  },
  {
   "cell_type": "code",
   "execution_count": 21,
   "metadata": {
    "collapsed": true
   },
   "outputs": [],
   "source": [
    "from os import listdir\n",
    "import csv\n",
    "import matplotlib.pyplot as plt\n",
    "import numpy as np\n",
    "from numpy import mean, asarray, where, zeros\n",
    "import sys\n",
    "%matplotlib inline"
   ]
  },
  {
   "cell_type": "markdown",
   "metadata": {},
   "source": [
    "### Set data directory"
   ]
  },
  {
   "cell_type": "code",
   "execution_count": 36,
   "metadata": {
    "collapsed": true
   },
   "outputs": [],
   "source": [
    "baseDir = '/Volumes/jayaramanlab/Hannah/Projects/OptoFreeWalking/1_Data/RewardTest_Laura/'\n",
    "expDir = 'Gr64f-DoubleGal4_x_10xChrimsonRWTB_female_RetWuerzburg/5LED/200ms/'\n",
    "experiment = expDir.split('/')[-1]"
   ]
  },
  {
   "cell_type": "code",
   "execution_count": 37,
   "metadata": {
    "scrolled": true
   },
   "outputs": [
    {
     "name": "stdout",
     "output_type": "stream",
     "text": [
      "Gr64f-DoubleGal4_x_10xChrimsonRWTB_female_RetWuerzburg_5LED_0-2s_rep5_24h_2018_05_04_18_40_22_v001_luLEDTrace.csv\n",
      "Gr64f-DoubleGal4_x_10xChrimsonRWTB_female_RetWuerzburg_5LED_0-2s_rep3_0h_2018_04_25_20_26_36_v001_luLEDTrace.csv\n",
      "Gr64f-DoubleGal4_x_10xChrimsonRWTB_female_RetWuerzburg_5LED_0-2s_rep1_0h_2018_03_15_20_37_23_v001_luLEDTrace.csv\n",
      "Gr64f-DoubleGal4_x_10xChrimsonRWTB_female_RetWuerzburg_5LED_0-2s_rep2_0h_2018_04_25_16_21_00_v001_luLEDTrace.csv\n",
      "Gr64f-DoubleGal4_x_10xChrimsonRWTB_female_RetWuerzburg_5LED_0-2s_rep2_24h_2018_03_14_18_44_57_v001_luLEDTrace.csv\n",
      "Gr64f-DoubleGal4_x_10xChrimsonRWTB_female_RetWuerzburg_5LED_0-2s_rep4_24h_2018_03_21_18_24_20_v001_luLEDTrace.csv\n",
      "Gr64f-DoubleGal4_x_10xChrimsonRWTB_female_RetWuerzburg_5LED_0-2s_rep1_24h_2018_03_14_18_31_56_v001_luLEDTrace.csv\n",
      "Gr64f-DoubleGal4_x_10xChrimsonRWTB_female_RetWuerzburg_5LED_0-2s_rep3_24h_2018_03_21_17_47_00_v001_luLEDTrace.csv\n"
     ]
    }
   ],
   "source": [
    "filesToAnalyse = []\n",
    "expDirContent = listdir(baseDir + expDir + \"luLEDTraces\")\n",
    "\n",
    "expDirContent\n",
    "for file in expDirContent:\n",
    "    if file.endswith('_luLEDTrace.csv'):\n",
    "        print(file)\n",
    "        filesToAnalyse.append(file)   \n",
    "numFiles = len(filesToAnalyse)"
   ]
  },
  {
   "cell_type": "markdown",
   "metadata": {},
   "source": [
    "### Save frame of first stimulation"
   ]
  },
  {
   "cell_type": "code",
   "execution_count": 38,
   "metadata": {
    "collapsed": true
   },
   "outputs": [],
   "source": [
    "with open(baseDir + expDir + 'firstFrames.csv', 'w') as csvfile:\n",
    "        mywriter = csv.writer(csvfile, delimiter=',')\n",
    "        mywriter.writerow(['experiment'] + ['fileName'] + ['startFrame'])"
   ]
  },
  {
   "cell_type": "code",
   "execution_count": 39,
   "metadata": {
    "collapsed": true
   },
   "outputs": [],
   "source": [
    "for currFile in range(numFiles):\n",
    "    meanValue = []\n",
    "    fileToAnalyse = csv.reader(open(baseDir + expDir + \"luLEDTraces/\" + filesToAnalyse[currFile],'r'))\n",
    "    for line in fileToAnalyse:\n",
    "        meanValue.append(line[2])\n",
    "    \n",
    "    meanValue = asarray(meanValue[1:-1]).astype('float')\n",
    "\n",
    "    stimOn = where(meanValue>mean(meanValue)*1.5)\n",
    "\n",
    "    fileNameParts = filesToAnalyse[currFile].split('_')\n",
    "    fileName = '_'.join(fileNameParts[0:-1])\n",
    "    \n",
    "    with open(baseDir + expDir + 'firstFrames.csv', 'a') as csvfile:\n",
    "        mywriter = csv.writer(csvfile, delimiter=',')\n",
    "        mywriter.writerow([experiment] + [fileName] + [stimOn[0][0]])"
   ]
  },
  {
   "cell_type": "markdown",
   "metadata": {
    "collapsed": true
   },
   "source": [
    "### Save first frame of all stimulation frames"
   ]
  },
  {
   "cell_type": "code",
   "execution_count": 40,
   "metadata": {
    "collapsed": true
   },
   "outputs": [],
   "source": [
    "with open(baseDir + expDir + 'stimFrames.csv', 'w') as csvfile:\n",
    "        mywriter = csv.writer(csvfile, delimiter=',')"
   ]
  },
  {
   "cell_type": "code",
   "execution_count": 41,
   "metadata": {
    "collapsed": true
   },
   "outputs": [],
   "source": [
    "for currFile in range(numFiles):\n",
    "    meanValue = []\n",
    "    fileToAnalyse = csv.reader(open(baseDir + expDir + \"luLEDTraces/\" + filesToAnalyse[currFile],'r'))\n",
    "    for line in fileToAnalyse:\n",
    "        meanValue.append(line[2])\n",
    "    \n",
    "    meanValue = asarray(meanValue[1:-1]).astype('float')\n",
    "\n",
    "    stimOn = meanValue>mean(meanValue)*1.5\n",
    "    beginStim = np.where(np.diff(stimOn.astype(int))>0)[0]\n",
    "\n",
    "    fileNameParts = filesToAnalyse[currFile].split('_')\n",
    "    fileName = '_'.join(fileNameParts[0:-1])\n",
    "    \n",
    "    with open(baseDir + expDir + 'stimFrames.csv', 'a') as csvfile:\n",
    "        mywriter = csv.writer(csvfile, delimiter=',')\n",
    "        mywriter.writerow(beginStim)"
   ]
  },
  {
   "cell_type": "code",
   "execution_count": 42,
   "metadata": {},
   "outputs": [
    {
     "data": {
      "text/plain": [
       "15"
      ]
     },
     "execution_count": 42,
     "metadata": {},
     "output_type": "execute_result"
    }
   ],
   "source": [
    "len(np.where(np.diff(stimOn.astype(int))>0)[0])"
   ]
  },
  {
   "cell_type": "code",
   "execution_count": null,
   "metadata": {
    "collapsed": true
   },
   "outputs": [],
   "source": []
  }
 ],
 "metadata": {
  "kernelspec": {
   "display_name": "Python 2",
   "language": "python",
   "name": "python2"
  },
  "language_info": {
   "codemirror_mode": {
    "name": "ipython",
    "version": 2
   },
   "file_extension": ".py",
   "mimetype": "text/x-python",
   "name": "python",
   "nbconvert_exporter": "python",
   "pygments_lexer": "ipython2",
   "version": "2.7.14"
  }
 },
 "nbformat": 4,
 "nbformat_minor": 1
}
