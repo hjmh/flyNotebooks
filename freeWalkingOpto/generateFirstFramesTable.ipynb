{
 "cells": [
  {
   "cell_type": "markdown",
   "metadata": {},
   "source": [
    "## Script for generating tables with stimulation frame numbers from ufmf-movie luminance traces\n",
    "### First run fiji macro to generate luminance traces of the indicator LEDs"
   ]
  },
  {
   "cell_type": "code",
   "execution_count": 1,
   "metadata": {},
   "outputs": [],
   "source": [
    "from os import listdir\n",
    "import csv\n",
    "import matplotlib.pyplot as plt\n",
    "import numpy as np\n",
    "from numpy import mean, asarray, where, zeros\n",
    "%matplotlib inline"
   ]
  },
  {
   "cell_type": "markdown",
   "metadata": {},
   "source": [
    "### Set data directory"
   ]
  },
  {
   "cell_type": "code",
   "execution_count": 9,
   "metadata": {},
   "outputs": [],
   "source": [
    "baseDir = '/Volumes/jayaramanlab/Hannah/Projects/OptoFreeWalking/1_Data/RewardTest_Laura/fullFieldPulse/'\n",
    "expDir = 'SS31333-noBal_x_20xCsChrimsonWTB_male_RetWuerzburg/500ms/'\n",
    "experiment = expDir.split('/')[-2]"
   ]
  },
  {
   "cell_type": "code",
   "execution_count": 10,
   "metadata": {
    "scrolled": true
   },
   "outputs": [
    {
     "name": "stdout",
     "output_type": "stream",
     "text": [
      "SS31333-noBal_x_20xCsChrimsonWTB_10LED_0-5s_RetWuerzburg_male_12h_rep3_2017_06_13_10_31_42_v001_luLEDTrace.csv\n",
      "SS31333-noBal_x_20xCsChrimsonWTB_10LED_0-5s_RetWuerzburg_male_12h_rep2_2017_06_11_21_48_02_v001_luLEDTrace.csv\n",
      "SS31333-noBal_x_20xCsChrimsonWTB_10LED_0-5s_RetWuerzburg_male_12h_rep1_2017_06_08_10_30_08_v001_luLEDTrace.csv\n",
      "SS31333-noBal_x_20xCsChrimsonWTB_10LED_0-5s_RetWuerzburg_male_0h_rep1_2017_06_11_21_14_24_v001_luLEDTrace.csv\n"
     ]
    }
   ],
   "source": [
    "filesToAnalyse = []\n",
    "expDirContent = listdir(baseDir + expDir + \"luLEDTraces\")\n",
    "\n",
    "expDirContent\n",
    "for file in expDirContent:\n",
    "    if file.endswith('_luLEDTrace.csv'):\n",
    "        print(file)\n",
    "        filesToAnalyse.append(file)   \n",
    "numFiles = len(filesToAnalyse)"
   ]
  },
  {
   "cell_type": "markdown",
   "metadata": {},
   "source": [
    "### Save frame of first stimulation"
   ]
  },
  {
   "cell_type": "code",
   "execution_count": 11,
   "metadata": {},
   "outputs": [],
   "source": [
    "with open(baseDir + expDir + 'firstFrames.csv', 'w') as csvfile:\n",
    "        mywriter = csv.writer(csvfile, delimiter=',')\n",
    "        mywriter.writerow(['experiment'] + ['fileName'] + ['startFrame'])"
   ]
  },
  {
   "cell_type": "code",
   "execution_count": 12,
   "metadata": {},
   "outputs": [],
   "source": [
    "for currFile in range(numFiles):\n",
    "    meanValue = []\n",
    "    fileToAnalyse = csv.reader(open(baseDir + expDir + \"luLEDTraces/\" + filesToAnalyse[currFile],'r'))\n",
    "    for line in fileToAnalyse:\n",
    "        meanValue.append(line[2])\n",
    "    \n",
    "    meanValue = asarray(meanValue[1:-1]).astype('float')\n",
    "\n",
    "    stimOn = where(meanValue>mean(meanValue))\n",
    "\n",
    "    fileNameParts = filesToAnalyse[currFile].split('_')\n",
    "    fileName = '_'.join(fileNameParts[0:-1])\n",
    "    \n",
    "    with open(baseDir + expDir + 'firstFrames.csv', 'a') as csvfile:\n",
    "        mywriter = csv.writer(csvfile, delimiter=',')\n",
    "        mywriter.writerow([experiment] + [fileName] + [stimOn[0][0]])"
   ]
  },
  {
   "cell_type": "markdown",
   "metadata": {
    "collapsed": true
   },
   "source": [
    "### Save first frame of all stimulation frames"
   ]
  },
  {
   "cell_type": "code",
   "execution_count": 13,
   "metadata": {
    "collapsed": true
   },
   "outputs": [],
   "source": [
    "with open(baseDir + expDir + 'stimFrames.csv', 'w') as csvfile:\n",
    "        mywriter = csv.writer(csvfile, delimiter=',')"
   ]
  },
  {
   "cell_type": "code",
   "execution_count": 14,
   "metadata": {},
   "outputs": [],
   "source": [
    "for currFile in range(numFiles):\n",
    "    meanValue = []\n",
    "    fileToAnalyse = csv.reader(open(baseDir + expDir + \"luLEDTraces/\" + filesToAnalyse[currFile],'r'))\n",
    "    for line in fileToAnalyse:\n",
    "        meanValue.append(line[2])\n",
    "    \n",
    "    meanValue = asarray(meanValue[1:-1]).astype('float')\n",
    "\n",
    "    stimOn = meanValue>mean(meanValue)\n",
    "    beginStim = np.where(np.diff(stimOn.astype(int))>0)[0]\n",
    "\n",
    "    fileNameParts = filesToAnalyse[currFile].split('_')\n",
    "    fileName = '_'.join(fileNameParts[0:-1])\n",
    "    \n",
    "    with open(baseDir + expDir + 'stimFrames.csv', 'a') as csvfile:\n",
    "        mywriter = csv.writer(csvfile, delimiter=',')\n",
    "        mywriter.writerow(beginStim)"
   ]
  },
  {
   "cell_type": "code",
   "execution_count": 15,
   "metadata": {},
   "outputs": [
    {
     "data": {
      "text/plain": [
       "15"
      ]
     },
     "execution_count": 15,
     "metadata": {},
     "output_type": "execute_result"
    }
   ],
   "source": [
    "len(np.where(np.diff(stimOn.astype(int))>0)[0])"
   ]
  },
  {
   "cell_type": "code",
   "execution_count": null,
   "metadata": {},
   "outputs": [],
   "source": []
  },
  {
   "cell_type": "code",
   "execution_count": null,
   "metadata": {
    "collapsed": true
   },
   "outputs": [],
   "source": []
  }
 ],
 "metadata": {
  "kernelspec": {
   "display_name": "Python 3",
   "language": "python",
   "name": "python3"
  },
  "language_info": {
   "codemirror_mode": {
    "name": "ipython",
    "version": 3
   },
   "file_extension": ".py",
   "mimetype": "text/x-python",
   "name": "python",
   "nbconvert_exporter": "python",
   "pygments_lexer": "ipython3",
   "version": "3.6.1"
  }
 },
 "nbformat": 4,
 "nbformat_minor": 1
}
